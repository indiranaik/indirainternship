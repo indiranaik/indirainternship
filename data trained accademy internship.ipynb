{
 "cells": [
  {
   "cell_type": "markdown",
   "id": "a0bca760",
   "metadata": {},
   "source": [
    "# REGULAR EXPRESSION"
   ]
  },
  {
   "cell_type": "markdown",
   "id": "1fc68086",
   "metadata": {},
   "source": [
    "1) write a python program to replace all occurrences of a space,comma,or dot with a colon."
   ]
  },
  {
   "cell_type": "code",
   "execution_count": 12,
   "id": "0ff3a7e5",
   "metadata": {},
   "outputs": [
    {
     "name": "stdout",
     "output_type": "stream",
     "text": [
      "Python Exercises:PHP exercises:\n"
     ]
    }
   ],
   "source": [
    "import re\n",
    "a='Python Exercises,PHP exercises.'\n",
    "b=re.sub(\"[,.]\",\":\",a)\n",
    "print(b)"
   ]
  },
  {
   "cell_type": "markdown",
   "id": "e1739ef8",
   "metadata": {},
   "source": [
    "2) Write a Python program to find all words starting with 'a' or 'e' in a given string."
   ]
  },
  {
   "cell_type": "code",
   "execution_count": 5,
   "id": "a582cce2",
   "metadata": {},
   "outputs": [
    {
     "name": "stdout",
     "output_type": "stream",
     "text": [
      "['ercises', 'exercises']\n"
     ]
    }
   ],
   "source": [
    "import re\n",
    "a='Python Exercises,PHP exercises.'\n",
    "b=re.findall(\"[ae]\\w+\",a)\n",
    "print(b)"
   ]
  },
  {
   "cell_type": "markdown",
   "id": "c64b2aef",
   "metadata": {},
   "source": [
    "3) - Create a function in python to find all words that are at least 4 characters long in a string. The use of the re.compile() method is mandatory."
   ]
  },
  {
   "cell_type": "code",
   "execution_count": 8,
   "id": "c03492f7",
   "metadata": {},
   "outputs": [
    {
     "name": "stdout",
     "output_type": "stream",
     "text": [
      "['find', 'that', 'long']\n"
     ]
    }
   ],
   "source": [
    "import re\n",
    "a='find all words that are at least 4 characters long in a string.'\n",
    "b=re.findall(r\"\\b\\w{4}\\b\",a)\n",
    "print(b)"
   ]
  },
  {
   "cell_type": "markdown",
   "id": "02be67eb",
   "metadata": {},
   "source": [
    "4- Create a function in python to find all three, four, and five character words in a string. The use of the re.compile() method is mandatory.)"
   ]
  },
  {
   "cell_type": "code",
   "execution_count": 9,
   "id": "4bc7a7e6",
   "metadata": {
    "scrolled": true
   },
   "outputs": [
    {
     "name": "stdout",
     "output_type": "stream",
     "text": [
      "['all', 'are']\n",
      "['find', 'that', 'long']\n",
      "['words', 'least']\n"
     ]
    }
   ],
   "source": [
    "import re\n",
    "a='find all words that are at least 4 characters long in a string.'\n",
    "b=re.findall(r\"\\b\\w{3}\\b\",a)\n",
    "c=re.findall(r\"\\b\\w{4}\\b\",a)\n",
    "d=re.findall(r\"\\b\\w{5}\\b\",a)\n",
    "print(b)\n",
    "print(c)\n",
    "print(d)\n",
    "\n"
   ]
  },
  {
   "cell_type": "markdown",
   "id": "facc56d6",
   "metadata": {},
   "source": [
    "5)- Create a function in Python to remove the parenthesis in a list of strings. The use of the re.compile() method is mandatory.\n",
    "Sample Text: [\"example (.com)\", \"hr@fliprobo (.com)\", \"github (.com)\", \"Hello (Data Science World)\", \"Data (Scientist)\"]\n"
   ]
  },
  {
   "cell_type": "code",
   "execution_count": 12,
   "id": "abfa3de9",
   "metadata": {},
   "outputs": [
    {
     "name": "stdout",
     "output_type": "stream",
     "text": [
      "example\n",
      "hr@fliprobo\n",
      "github\n",
      "Hello\n",
      "Data\n"
     ]
    }
   ],
   "source": [
    "import re\n",
    "a =  [\"example (.com)\", \"hr@fliprobo (.com)\", \"github (.com)\", \"Hello (Data Science World)\", \"Data (Scientist)\"]\n",
    "for a in a:\n",
    "    b=re.sub(r\" ?\\([^)]+\\)\",\"\", a)\n",
    "    print(b)\n"
   ]
  },
  {
   "cell_type": "markdown",
   "id": "b37cce7c",
   "metadata": {},
   "source": [
    "6)Write a python program to remove the parenthesis area from the text stored in the text file using Regular Expression.\n",
    "Sample Text: [\"example (.com)\", \"hr@fliprobo (.com)\", \"github (.com)\", \"Hello (Data Science World)\", \"Data (Scientist)\"]\n"
   ]
  },
  {
   "cell_type": "code",
   "execution_count": 13,
   "id": "2d17f516",
   "metadata": {
    "scrolled": true
   },
   "outputs": [
    {
     "name": "stdout",
     "output_type": "stream",
     "text": [
      "example\n",
      "hr@fliprobo\n",
      "github\n",
      "Hello\n",
      "Data\n"
     ]
    }
   ],
   "source": [
    "import re\n",
    "a=  [\"example (.com)\", \"hr@fliprobo (.com)\", \"github (.com)\", \"Hello (Data Science World)\", \"Data (Scientist)\"]\n",
    "for a in a:\n",
    "    b=re.sub(r\" ?\\([^)]+\\)\",\"\", a)\n",
    "    print(b)\n"
   ]
  },
  {
   "cell_type": "markdown",
   "id": "28477063",
   "metadata": {},
   "source": [
    "7)Write a regular expression in Python to split a string into uppercase letters.\n",
    "Sample text: “ImportanceOfRegularExpressionsInPython”"
   ]
  },
  {
   "cell_type": "code",
   "execution_count": 13,
   "id": "28839596",
   "metadata": {},
   "outputs": [
    {
     "name": "stdout",
     "output_type": "stream",
     "text": [
      "['Importance', 'Of', 'Regular', 'Expressions', 'In', 'Python']\n"
     ]
    }
   ],
   "source": [
    "import re\n",
    "a =\"ImportanceOfRegularExpressionsInPython\"\n",
    "b=re.findall('[A-Z][^A-Z]*', a)\n",
    "print(b)\n"
   ]
  },
  {
   "cell_type": "markdown",
   "id": "6d2874bb",
   "metadata": {},
   "source": [
    "8)- Create a function in python to insert spaces between words starting with numbers.\n",
    "Sample Text: “RegularExpression1IsAn2ImportantTopic3InPython\"\n"
   ]
  },
  {
   "cell_type": "code",
   "execution_count": 14,
   "id": "20327398",
   "metadata": {},
   "outputs": [
    {
     "name": "stdout",
     "output_type": "stream",
     "text": [
      "Regular\n",
      "Regular Expression\n",
      "Regular Expression1 Is An2 Important Topic3 In Python\n"
     ]
    }
   ],
   "source": [
    "import re\n",
    "def capital_words_spaces(str1):\n",
    "  return re.sub(r\"(\\w)([A-Z])\", r\"\\1 \\2\", str1)\n",
    "\n",
    "a=capital_words_spaces(\"Regular\")\n",
    "b=capital_words_spaces(\"RegularExpression\")\n",
    "c=capital_words_spaces(\"RegularExpression1IsAn2ImportantTopic3InPython\")\n",
    "print(a)\n",
    "print(b)\n",
    "print(c)"
   ]
  },
  {
   "cell_type": "markdown",
   "id": "fe21adbb",
   "metadata": {},
   "source": [
    "9)Create a function in python to insert spaces between words starting with capital letters or with numbers.\n",
    "Sample Text: “RegularExpression1IsAn2ImportantTopic3InPython\"\n"
   ]
  },
  {
   "cell_type": "code",
   "execution_count": 15,
   "id": "d7299e1d",
   "metadata": {},
   "outputs": [
    {
     "name": "stdout",
     "output_type": "stream",
     "text": [
      "Regular\n",
      "Regular Expression\n",
      "Regular Expression1 Is An2 Important Topic3 In Python\n"
     ]
    }
   ],
   "source": [
    "import re\n",
    "def capital_words_spaces(str1):\n",
    "  return re.sub(r\"(\\w)([A-Z])\", r\"\\1 \\2\", str1)\n",
    "\n",
    "a=capital_words_spaces(\"Regular\")\n",
    "b=capital_words_spaces(\"RegularExpression\")\n",
    "c=capital_words_spaces(\"RegularExpression1IsAn2ImportantTopic3InPython\")\n",
    "print(a)\n",
    "print(b)\n",
    "print(c)"
   ]
  },
  {
   "cell_type": "markdown",
   "id": "eed1c47c",
   "metadata": {},
   "source": [
    "10)Write a python program to extract email address from the text stored in the text file using Regular Expression.\n",
    "\n",
    "\n",
    "\n",
    "\n",
    "Sample Text- Hello my name is Data Science and my email address is xyz@domain.com and alternate email address is xyz.abc@sdomain.domain.com. \n",
    "Please contact us at hr@fliprobo.com for further information. \n",
    "\n",
    "\n"
   ]
  },
  {
   "cell_type": "code",
   "execution_count": 16,
   "id": "852f03fa",
   "metadata": {},
   "outputs": [
    {
     "name": "stdout",
     "output_type": "stream",
     "text": [
      "['xyz@domain.com', 'xyz.abc@sdomain.domain.com', 'hr@fliprobo.com']\n"
     ]
    }
   ],
   "source": [
    "import re\n",
    "a = \"Hello my name is Data Science and my email address is xyz@domain.com and alternate email address is xyz.abc@sdomain.domain.com. Please contact us at hr@fliprobo.com for further information.\"\n",
    "\n",
    "\n",
    "b = re.findall(r\"[a-z0-9\\.\\-+_]+@[a-z0-9\\.\\-+_]+\\.[a-z]+\", a)\n",
    "print (b)"
   ]
  },
  {
   "cell_type": "markdown",
   "id": "efe60d61",
   "metadata": {},
   "source": [
    "11)Write a Python program to match a string that contains only upper and lowercase letters, numbers, and underscores."
   ]
  },
  {
   "cell_type": "code",
   "execution_count": 20,
   "id": "0ddc2707",
   "metadata": {},
   "outputs": [
    {
     "name": "stdout",
     "output_type": "stream",
     "text": [
      "Not matched!\n",
      "Found a match!\n"
     ]
    }
   ],
   "source": [
    "import re\n",
    "def text_match(a):\n",
    "        patterns = '^[a-zA-Z0-9_]*$'\n",
    "        if re.search(patterns,  a):\n",
    "                return 'Found a match!'\n",
    "        else:\n",
    "                return('Not matched!')\n",
    "\n",
    "b=a_match(\"am a indian\")\n",
    "c=a_match(\"Maths_Exercises_1\")\n",
    "print(b)\n",
    "print(c)\n"
   ]
  },
  {
   "cell_type": "markdown",
   "id": "123d3dac",
   "metadata": {},
   "source": [
    "12)Write a Python program where a string will start with a specific number. \n",
    "\n"
   ]
  },
  {
   "cell_type": "code",
   "execution_count": 21,
   "id": "9495f855",
   "metadata": {},
   "outputs": [
    {
     "name": "stdout",
     "output_type": "stream",
     "text": [
      "True\n",
      "False\n"
     ]
    }
   ],
   "source": [
    "import re\n",
    "def match_num(string):\n",
    "    a = re.compile(r\"^4\")\n",
    "    if a.match(string):\n",
    "        return True\n",
    "    else:\n",
    "        return False\n",
    "b=match_num('4-2345861')\n",
    "c=match_num('2-2345861')\n",
    "print(b)\n",
    "print(c)\n"
   ]
  },
  {
   "cell_type": "markdown",
   "id": "8e16fdc6",
   "metadata": {},
   "source": [
    "13)Write a Python program to remove leading zeros from an IP address"
   ]
  },
  {
   "cell_type": "code",
   "execution_count": 22,
   "id": "989b2812",
   "metadata": {},
   "outputs": [
    {
     "name": "stdout",
     "output_type": "stream",
     "text": [
      "345.4.567.85\n"
     ]
    }
   ],
   "source": [
    "import re\n",
    "ip = \"345.04.567.085\"\n",
    "a = re.sub('\\.[0]*', '.', ip)\n",
    "print(a)"
   ]
  },
  {
   "cell_type": "markdown",
   "id": "677c6403",
   "metadata": {},
   "source": [
    "14)- Write a regular expression in python to match a date string in the form of Month name followed by day number and year stored in a text file.\n",
    "\n",
    "\n",
    "Sample text :  ' On August 15th 1947 that India was declared independent from British colonialism, and the reins of control were handed over to the leaders of the Country’.\n"
   ]
  },
  {
   "cell_type": "code",
   "execution_count": 23,
   "id": "f627ef77",
   "metadata": {},
   "outputs": [
    {
     "name": "stdout",
     "output_type": "stream",
     "text": [
      "August 15th 1947\n"
     ]
    }
   ],
   "source": [
    "import re\n",
    "\n",
    "a = \"On August 15th 1947 that India was declared independent from British colonialism, and the reins of control were handed over to the leaders of the Country.\"\n",
    "b= r\"\\b([A-Z][a-z]+ \\d{1,2}(?:st|nd|rd|th)? \\d{4})\\b\"\n",
    "\n",
    "c = re.findall(b, a)\n",
    "d = c[0] if c else None\n",
    "\n",
    "print(d)"
   ]
  },
  {
   "cell_type": "markdown",
   "id": "01395c7c",
   "metadata": {},
   "source": [
    "15)- Write a Python program to search some literals strings in a string. \n",
    "Sample text : 'The quick brown fox jumps over the lazy dog.'\n"
   ]
  },
  {
   "cell_type": "code",
   "execution_count": 24,
   "id": "e482a14f",
   "metadata": {},
   "outputs": [
    {
     "name": "stdout",
     "output_type": "stream",
     "text": [
      "('fox', 'The quick brown fox jumps over the lazy dog.')\n",
      "('dog', 'The quick brown fox jumps over the lazy dog.')\n",
      "('horse', 'The quick brown fox jumps over the lazy dog.')\n"
     ]
    }
   ],
   "source": [
    "import re\n",
    "b = [ 'fox', 'dog', 'horse' ]\n",
    "a = 'The quick brown fox jumps over the lazy dog.'\n",
    "for b in b:\n",
    "    print((b, a),)"
   ]
  },
  {
   "cell_type": "markdown",
   "id": "81fe6956",
   "metadata": {},
   "source": [
    "16)Write a Python program to search a literals string in a string and also find the location within the original string where the pattern occurs\n",
    "Sample text : 'The quick brown fox jumps over the lazy dog.'\n"
   ]
  },
  {
   "cell_type": "code",
   "execution_count": 35,
   "id": "023e9ef1",
   "metadata": {},
   "outputs": [
    {
     "name": "stdout",
     "output_type": "stream",
     "text": [
      "\"fox\" in \"The quick brown fox jumps over the lazy dog.\" from 16 to 19 \n"
     ]
    }
   ],
   "source": [
    "import re\n",
    "b = 'fox'\n",
    "a = 'The quick brown fox jumps over the lazy dog.'\n",
    "c = re.search(b, a)\n",
    "s = match.start()\n",
    "e = match.end()\n",
    "d=('\"%s\" in \"%s\" from %d to %d ' % \\\n",
    "    (match.re.pattern, match.string, s, e))\n",
    "print(d)"
   ]
  },
  {
   "cell_type": "markdown",
   "id": "6704d747",
   "metadata": {},
   "source": [
    "17)- Write a Python program to find the substrings within a string.\n",
    "Sample text : 'Python exercises, PHP exercises, C# exercises'\n"
   ]
  },
  {
   "cell_type": "code",
   "execution_count": 36,
   "id": "1b833c89",
   "metadata": {},
   "outputs": [
    {
     "name": "stdout",
     "output_type": "stream",
     "text": [
      " \"exercises\"\n",
      " \"exercises\"\n",
      " \"exercises\"\n"
     ]
    }
   ],
   "source": [
    "import re\n",
    "a = 'Python exercises, PHP exercises, C# exercises'\n",
    "b= 'exercises'\n",
    "for match in re.findall(b, a):\n",
    "    c=(' \"%s\"' % match)\n",
    "    print(c)"
   ]
  },
  {
   "cell_type": "code",
   "execution_count": null,
   "id": "7881871a",
   "metadata": {},
   "outputs": [],
   "source": [
    "18)Write a Python program to find the occurrence and position of the substrings within a string."
   ]
  },
  {
   "cell_type": "code",
   "execution_count": 39,
   "id": "f1c5d628",
   "metadata": {},
   "outputs": [
    {
     "name": "stdout",
     "output_type": "stream",
     "text": [
      "\"exercises\"  7:16\n",
      "\"exercises\"  22:31\n",
      "\"exercises\"  36:45\n"
     ]
    }
   ],
   "source": [
    "import re\n",
    "a = 'Python exercises, PHP exercises, C# exercises'\n",
    "b = 'exercises'\n",
    "for match in re.finditer(b, a):\n",
    "    s = match.start()\n",
    "    e = match.end()\n",
    "    c=('\"%s\"  %d:%d' % (a[s:e], s, e))\n",
    "    print(c)\n"
   ]
  },
  {
   "cell_type": "markdown",
   "id": "d753d229",
   "metadata": {},
   "source": [
    "19)- Write a Python program to convert a date of yyyy-mm-dd format to dd-mm-yyyy format.\n",
    "\n"
   ]
  },
  {
   "cell_type": "code",
   "execution_count": 41,
   "id": "c48683d1",
   "metadata": {},
   "outputs": [
    {
     "name": "stdout",
     "output_type": "stream",
     "text": [
      "('Original date in YYY-MM-DD Format: ', '2023-02-02')\n",
      "('New date in DD-MM-YYYY Format: ', '02-02-2023')\n"
     ]
    }
   ],
   "source": [
    "import re\n",
    "def change_date_format(dt):\n",
    "        return re.sub(r'(\\d{4})-(\\d{1,2})-(\\d{1,2})', '\\\\3-\\\\2-\\\\1', dt)\n",
    "a = \"2023-02-02\"\n",
    "b=\"Original date in YYY-MM-DD Format: \",a\n",
    "c=\"New date in DD-MM-YYYY Format: \",change_date_format(a)\n",
    "print(b)\n",
    "print(c)\n",
    "\n"
   ]
  },
  {
   "cell_type": "markdown",
   "id": "92287be8",
   "metadata": {},
   "source": [
    "20)Create a function in python to find all decimal numbers with a precision of 1 or 2 in a string. The use of the re.compile() method is mandatory.\n",
    "Sample Text: \"01.12 0132.123 2.31875 145.8 3.01 27.25 0.25\"\n"
   ]
  },
  {
   "cell_type": "code",
   "execution_count": 47,
   "id": "90ffc325",
   "metadata": {},
   "outputs": [
    {
     "ename": "IndentationError",
     "evalue": "unindent does not match any outer indentation level (<tokenize>, line 6)",
     "output_type": "error",
     "traceback": [
      "\u001b[1;36m  File \u001b[1;32m<tokenize>:6\u001b[1;36m\u001b[0m\n\u001b[1;33m    return decimal_numbers\u001b[0m\n\u001b[1;37m    ^\u001b[0m\n\u001b[1;31mIndentationError\u001b[0m\u001b[1;31m:\u001b[0m unindent does not match any outer indentation level\n"
     ]
    }
   ],
   "source": [
    "import re\n",
    "\n",
    "def find_decimal_numbers(string):\n",
    "   b= re.compile(r'\\d+\\.\\d{1,2}')\n",
    "   decimal_numbers = re.findall(b, string)\n",
    "  return decimal_numbers\n",
    "a = \"01.12 0132.123 2.31875 145.8 3.01 27.25 0.25\"\n",
    "o/p = find_decimal_numbers(a)\n",
    "print(o/p)"
   ]
  },
  {
   "cell_type": "markdown",
   "id": "48c0a167",
   "metadata": {},
   "source": [
    "21)Write a Python program to separate and print the numbers and their position of a given string."
   ]
  },
  {
   "cell_type": "code",
   "execution_count": 48,
   "id": "355d2881",
   "metadata": {},
   "outputs": [
    {
     "name": "stdout",
     "output_type": "stream",
     "text": [
      "50\n",
      "('Index position:', 62)\n"
     ]
    }
   ],
   "source": [
    "import re\n",
    "\n",
    "a = \"The following example creates an ArrayList with a capacity of 50 elements. Four elements are then added to the ArrayList and the ArrayList is trimmed accordingly.\"\n",
    "\n",
    "for m in re.finditer(\"\\d+\", a):\n",
    "    b=(m.group(0))\n",
    "    c=(\"Index position:\", m.start())\n",
    "    print(b)\n",
    "    print(c)"
   ]
  },
  {
   "cell_type": "markdown",
   "id": "83032fb9",
   "metadata": {},
   "source": [
    "22)- Write a regular expression in python program to extract maximum/largest numeric value from a string.\n",
    "Sample Text:  'My marks in each semester are: 947, 896, 926, 524, 734, 950, 642'\n"
   ]
  },
  {
   "cell_type": "code",
   "execution_count": 50,
   "id": "2ab5cebf",
   "metadata": {},
   "outputs": [
    {
     "name": "stdout",
     "output_type": "stream",
     "text": [
      "950\n"
     ]
    }
   ],
   "source": [
    "\n",
    "import re\n",
    "a='My marks in each semester are: 947, 896, 926, 524, 734, 950, 642'\n",
    "num = re.findall('\\d+', a)\n",
    "num = map(int, num)\n",
    "b=(max(num))\n",
    "print(b)"
   ]
  },
  {
   "cell_type": "markdown",
   "id": "8a4b16bf",
   "metadata": {},
   "source": [
    "23)Create a function in python to insert spaces between words starting with capital letters.\n",
    "Sample Text: “RegularExpressionIsAnImportantTopicInPython\"\n"
   ]
  },
  {
   "cell_type": "code",
   "execution_count": 51,
   "id": "174ac1b6",
   "metadata": {},
   "outputs": [
    {
     "name": "stdout",
     "output_type": "stream",
     "text": [
      "Regular Expression Is An Important Topic In Python\n"
     ]
    }
   ],
   "source": [
    "import re\n",
    "a='RegularExpressionIsAnImportantTopicInPython' \n",
    "b = re.findall('[A-Z][a-z]*', a)\n",
    "c=(' '.join((b)))\n",
    "print(c)"
   ]
  },
  {
   "cell_type": "markdown",
   "id": "e015e11e",
   "metadata": {},
   "source": [
    "24)Python regex to find sequences of one upper case letter followed by lower case letters"
   ]
  },
  {
   "cell_type": "code",
   "execution_count": 52,
   "id": "bf314fc8",
   "metadata": {},
   "outputs": [
    {
     "name": "stdout",
     "output_type": "stream",
     "text": [
      "Found a match!\n",
      "Not matched!\n",
      "Not matched!\n"
     ]
    }
   ],
   "source": [
    "import re\n",
    "def a_match(a):\n",
    "        b = '^[a-z]+_[a-z]+$'\n",
    "        if re.search(b,  a):\n",
    "                return 'Found a match!'\n",
    "        else:\n",
    "                return('Not matched!')\n",
    "\n",
    "c=(a_match(\"aab_cbbbc\"))\n",
    "d=(a_match(\"aab_Abbbc\"))\n",
    "e=(a_match(\"Aaab_abbbc\"))\n",
    "print(c)\n",
    "print(d)\n",
    "print(e)"
   ]
  },
  {
   "cell_type": "markdown",
   "id": "9553d9e9",
   "metadata": {},
   "source": [
    "25)Write a Python program to remove continuous duplicate words from Sentence using Regular Expression.\n",
    "Sample Text: \"Hello hello world world\"\n"
   ]
  },
  {
   "cell_type": "code",
   "execution_count": 85,
   "id": "87ae9018",
   "metadata": {},
   "outputs": [
    {
     "name": "stdout",
     "output_type": "stream",
     "text": [
      "Hello hello world\n"
     ]
    }
   ],
   "source": [
    "def unique_list(text_str):\n",
    "    l = text_str.split()\n",
    "    temp = []\n",
    "    for x in l:\n",
    "        if x not in temp:\n",
    "            temp.append(x)\n",
    "    return ' '.join(temp)\n",
    "\n",
    "text_str =\"Hello hello world world\"\n",
    "print(unique_list(text_str))\n"
   ]
  },
  {
   "cell_type": "markdown",
   "id": "7d5c18f0",
   "metadata": {},
   "source": [
    "26)-  Write a python program using RegEx to accept string ending with alphanumeric character."
   ]
  },
  {
   "cell_type": "code",
   "execution_count": null,
   "id": "2bbdc43c",
   "metadata": {},
   "outputs": [],
   "source": []
  },
  {
   "cell_type": "markdown",
   "id": "4ba8deba",
   "metadata": {},
   "source": [
    "27)Write a python program using RegEx to extract the hashtags.\n",
    "Sample Text:  \"\"\"RT @kapil_kausik: #Doltiwal I mean #xyzabc is \"hurt\" by #Demonetization as the same has rendered USELESS <ed><U+00A0><U+00BD><ed><U+00B1><U+0089> \"acquired funds\" No wo\"\"\"\n"
   ]
  },
  {
   "cell_type": "code",
   "execution_count": 12,
   "id": "c98ee5d5",
   "metadata": {},
   "outputs": [
    {
     "name": "stdout",
     "output_type": "stream",
     "text": [
      "The hashtags in \"RT @kapil_kausik: #Doltiwal I mean #xyzabc is \"hurt\" by #Demonetization as the same has rendered USELESS <U+00A0><U+00BD><U+00B1><U+0089> \"acquired funds\" No wo\" are :\n",
      "Doltiwal\n",
      "xyzabc\n",
      "Demonetization\n"
     ]
    }
   ],
   "source": [
    "\n",
    "import re\n",
    " \n",
    " \n",
    " \n",
    "def extract_hashtags(text):\n",
    " \n",
    "    regex = \"#(\\w+)\"\n",
    "\n",
    "    hashtag_list = re.findall(regex, text)\n",
    "\n",
    "    print(\"The hashtags in \\\"\" + text + \"\\\" are :\")\n",
    "    for hashtag in hashtag_list:\n",
    "        print(hashtag)\n",
    " \n",
    " \n",
    "if __name__ == \"__main__\":\n",
    "    text1 = \"\"\"RT @kapil_kausik: #Doltiwal I mean #xyzabc is \"hurt\" by #Demonetization as the same has rendered USELESS <U+00A0><U+00BD><U+00B1><U+0089> \"acquired funds\" No wo\"\"\"\n",
    "    extract_hashtags(text1)"
   ]
  },
  {
   "cell_type": "markdown",
   "id": "b6bcec36",
   "metadata": {},
   "source": [
    "28)Write a python program using RegEx to remove <U+..> like symbols\n",
    "Check the below sample text, there are strange symbols something of the sort <U+..> all over the place. You need to come up with a general Regex expression that will cover all such symbols.\n",
    "Sample Text: \"@Jags123456 Bharat band on 28??<ed><U+00A0><U+00BD><ed><U+00B8><U+0082>Those who  are protesting #demonetization  are all different party leaders\"\n"
   ]
  },
  {
   "cell_type": "code",
   "execution_count": 53,
   "id": "5bccd6a5",
   "metadata": {},
   "outputs": [
    {
     "name": "stdout",
     "output_type": "stream",
     "text": [
      "@Jags123456 Bharat band on 28??<ed><ed>Those who are protesting #demonetization are all different party leaders\n"
     ]
    }
   ],
   "source": [
    "import re\n",
    "\n",
    "a = \"@Jags123456 Bharat band on 28??<ed><U+00A0><U+00BD><ed><U+00B8><U+0082>Those who are protesting #demonetization are all different party leaders\"\n",
    "\n",
    "b = r\"<U\\+\\w{4}>\"\n",
    "output_text = re.sub(b, \"\", a)\n",
    "\n",
    "print(output_text)"
   ]
  },
  {
   "cell_type": "markdown",
   "id": "b0ec5241",
   "metadata": {},
   "source": [
    "29)Write a python program to extract dates from the text stored in the text file.\n",
    "Sample Text: Ron was born on 12-09-1992 and he was admitted to school 15-12-1999.\n",
    "Note- Store this sample text in the file and then extract dates.\n"
   ]
  },
  {
   "cell_type": "code",
   "execution_count": null,
   "id": "aa6fa9ca",
   "metadata": {},
   "outputs": [],
   "source": []
  },
  {
   "cell_type": "code",
   "execution_count": null,
   "id": "bb0fee08",
   "metadata": {},
   "outputs": [],
   "source": [
    "30)- Create a function in python to remove all words from a string of length between 2 and 4.\n",
    "The use of the re.compile() method is mandatory.\n",
    "Sample Text: \"The following example creates an ArrayList with a capacity of 50 elements. 4 elements are then added to the ArrayList and the ArrayList is trimmed accordingly.\"\n"
   ]
  },
  {
   "cell_type": "code",
   "execution_count": null,
   "id": "d8124916",
   "metadata": {},
   "outputs": [],
   "source": []
  }
 ],
 "metadata": {
  "kernelspec": {
   "display_name": "Python 3 (ipykernel)",
   "language": "python",
   "name": "python3"
  },
  "language_info": {
   "codemirror_mode": {
    "name": "ipython",
    "version": 3
   },
   "file_extension": ".py",
   "mimetype": "text/x-python",
   "name": "python",
   "nbconvert_exporter": "python",
   "pygments_lexer": "ipython3",
   "version": "3.10.9"
  }
 },
 "nbformat": 4,
 "nbformat_minor": 5
}
