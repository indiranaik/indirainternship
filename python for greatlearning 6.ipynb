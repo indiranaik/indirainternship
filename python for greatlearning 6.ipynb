{
 "cells": [
  {
   "cell_type": "markdown",
   "id": "3e195562",
   "metadata": {},
   "source": [
    "# Introduction to Datascience"
   ]
  },
  {
   "cell_type": "markdown",
   "id": "a5df15c7",
   "metadata": {},
   "source": [
    "#what is data?\n",
    "\n",
    "data is a just a collection of facts\n"
   ]
  },
  {
   "cell_type": "code",
   "execution_count": null,
   "id": "0ef9024f",
   "metadata": {},
   "outputs": [],
   "source": []
  }
 ],
 "metadata": {
  "kernelspec": {
   "display_name": "Python 3 (ipykernel)",
   "language": "python",
   "name": "python3"
  },
  "language_info": {
   "codemirror_mode": {
    "name": "ipython",
    "version": 3
   },
   "file_extension": ".py",
   "mimetype": "text/x-python",
   "name": "python",
   "nbconvert_exporter": "python",
   "pygments_lexer": "ipython3",
   "version": "3.10.9"
  }
 },
 "nbformat": 4,
 "nbformat_minor": 5
}
