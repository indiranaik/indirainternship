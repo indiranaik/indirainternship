{
 "cells": [
  {
   "cell_type": "markdown",
   "id": "9a80b22d",
   "metadata": {},
   "source": [
    "# welecome to python "
   ]
  },
  {
   "cell_type": "markdown",
   "id": "795638de",
   "metadata": {},
   "source": [
    "enjoy the class"
   ]
  },
  {
   "cell_type": "code",
   "execution_count": 1,
   "id": "296580de",
   "metadata": {},
   "outputs": [
    {
     "data": {
      "text/plain": [
       "4"
      ]
     },
     "execution_count": 1,
     "metadata": {},
     "output_type": "execute_result"
    }
   ],
   "source": [
    "2+2"
   ]
  },
  {
   "cell_type": "code",
   "execution_count": 2,
   "id": "d85b7b6d",
   "metadata": {},
   "outputs": [
    {
     "data": {
      "text/plain": [
       "0"
      ]
     },
     "execution_count": 2,
     "metadata": {},
     "output_type": "execute_result"
    }
   ],
   "source": [
    "2-2"
   ]
  },
  {
   "cell_type": "code",
   "execution_count": 3,
   "id": "d7b08935",
   "metadata": {},
   "outputs": [
    {
     "data": {
      "text/plain": [
       "4"
      ]
     },
     "execution_count": 3,
     "metadata": {},
     "output_type": "execute_result"
    }
   ],
   "source": [
    "2*2"
   ]
  },
  {
   "cell_type": "code",
   "execution_count": 4,
   "id": "a1c4a076",
   "metadata": {},
   "outputs": [
    {
     "data": {
      "text/plain": [
       "1.0"
      ]
     },
     "execution_count": 4,
     "metadata": {},
     "output_type": "execute_result"
    }
   ],
   "source": [
    "2/2"
   ]
  },
  {
   "cell_type": "markdown",
   "id": "6a8b15a0",
   "metadata": {},
   "source": [
    "floor divison"
   ]
  },
  {
   "cell_type": "code",
   "execution_count": 5,
   "id": "2d12ec3a",
   "metadata": {},
   "outputs": [
    {
     "data": {
      "text/plain": [
       "5"
      ]
     },
     "execution_count": 5,
     "metadata": {},
     "output_type": "execute_result"
    }
   ],
   "source": [
    "10//2"
   ]
  },
  {
   "cell_type": "markdown",
   "id": "3c399aeb",
   "metadata": {},
   "source": [
    "moduler operator"
   ]
  },
  {
   "cell_type": "code",
   "execution_count": 6,
   "id": "254c10ac",
   "metadata": {},
   "outputs": [
    {
     "data": {
      "text/plain": [
       "0"
      ]
     },
     "execution_count": 6,
     "metadata": {},
     "output_type": "execute_result"
    }
   ],
   "source": [
    "10%2"
   ]
  },
  {
   "cell_type": "code",
   "execution_count": 7,
   "id": "72c795b7",
   "metadata": {},
   "outputs": [
    {
     "data": {
      "text/plain": [
       "2"
      ]
     },
     "execution_count": 7,
     "metadata": {},
     "output_type": "execute_result"
    }
   ],
   "source": [
    "17%3"
   ]
  },
  {
   "cell_type": "markdown",
   "id": "3038bd62",
   "metadata": {},
   "source": [
    "power factor"
   ]
  },
  {
   "cell_type": "code",
   "execution_count": 8,
   "id": "f16071d2",
   "metadata": {},
   "outputs": [
    {
     "data": {
      "text/plain": [
       "4"
      ]
     },
     "execution_count": 8,
     "metadata": {},
     "output_type": "execute_result"
    }
   ],
   "source": [
    "2**2"
   ]
  },
  {
   "cell_type": "code",
   "execution_count": 9,
   "id": "a15de1aa",
   "metadata": {},
   "outputs": [
    {
     "data": {
      "text/plain": [
       "27"
      ]
     },
     "execution_count": 9,
     "metadata": {},
     "output_type": "execute_result"
    }
   ],
   "source": [
    "3**3"
   ]
  },
  {
   "cell_type": "code",
   "execution_count": 10,
   "id": "0649807a",
   "metadata": {},
   "outputs": [
    {
     "data": {
      "text/plain": [
       "343"
      ]
     },
     "execution_count": 10,
     "metadata": {},
     "output_type": "execute_result"
    }
   ],
   "source": [
    "7**3"
   ]
  },
  {
   "cell_type": "code",
   "execution_count": 11,
   "id": "2eec10f3",
   "metadata": {},
   "outputs": [
    {
     "data": {
      "text/plain": [
       "64"
      ]
     },
     "execution_count": 11,
     "metadata": {},
     "output_type": "execute_result"
    }
   ],
   "source": [
    "4**3"
   ]
  },
  {
   "cell_type": "markdown",
   "id": "b7d40716",
   "metadata": {},
   "source": [
    "variables"
   ]
  },
  {
   "cell_type": "code",
   "execution_count": 12,
   "id": "f9e14947",
   "metadata": {},
   "outputs": [],
   "source": [
    "a=10\n"
   ]
  },
  {
   "cell_type": "code",
   "execution_count": 13,
   "id": "dbe0e39c",
   "metadata": {},
   "outputs": [
    {
     "data": {
      "text/plain": [
       "10"
      ]
     },
     "execution_count": 13,
     "metadata": {},
     "output_type": "execute_result"
    }
   ],
   "source": [
    "a"
   ]
  },
  {
   "cell_type": "code",
   "execution_count": 14,
   "id": "193dd19e",
   "metadata": {},
   "outputs": [],
   "source": [
    "b=5"
   ]
  },
  {
   "cell_type": "code",
   "execution_count": 15,
   "id": "100a253c",
   "metadata": {},
   "outputs": [
    {
     "data": {
      "text/plain": [
       "5"
      ]
     },
     "execution_count": 15,
     "metadata": {},
     "output_type": "execute_result"
    }
   ],
   "source": [
    "b"
   ]
  },
  {
   "cell_type": "code",
   "execution_count": 16,
   "id": "e3869e7d",
   "metadata": {},
   "outputs": [
    {
     "data": {
      "text/plain": [
       "15"
      ]
     },
     "execution_count": 16,
     "metadata": {},
     "output_type": "execute_result"
    }
   ],
   "source": [
    "a+b"
   ]
  },
  {
   "cell_type": "code",
   "execution_count": 17,
   "id": "90ed292d",
   "metadata": {},
   "outputs": [
    {
     "data": {
      "text/plain": [
       "5"
      ]
     },
     "execution_count": 17,
     "metadata": {},
     "output_type": "execute_result"
    }
   ],
   "source": [
    "a-b"
   ]
  },
  {
   "cell_type": "code",
   "execution_count": 18,
   "id": "6674a59e",
   "metadata": {},
   "outputs": [
    {
     "data": {
      "text/plain": [
       "50"
      ]
     },
     "execution_count": 18,
     "metadata": {},
     "output_type": "execute_result"
    }
   ],
   "source": [
    "a*b"
   ]
  },
  {
   "cell_type": "code",
   "execution_count": 19,
   "id": "83132042",
   "metadata": {},
   "outputs": [
    {
     "data": {
      "text/plain": [
       "2.0"
      ]
     },
     "execution_count": 19,
     "metadata": {},
     "output_type": "execute_result"
    }
   ],
   "source": [
    "a/b"
   ]
  },
  {
   "cell_type": "code",
   "execution_count": 20,
   "id": "00de56f6",
   "metadata": {},
   "outputs": [],
   "source": [
    "c=a+b"
   ]
  },
  {
   "cell_type": "code",
   "execution_count": 21,
   "id": "e5188988",
   "metadata": {},
   "outputs": [
    {
     "data": {
      "text/plain": [
       "15"
      ]
     },
     "execution_count": 21,
     "metadata": {},
     "output_type": "execute_result"
    }
   ],
   "source": [
    "c"
   ]
  },
  {
   "cell_type": "code",
   "execution_count": 22,
   "id": "8326cbd7",
   "metadata": {},
   "outputs": [],
   "source": [
    "d=a-b"
   ]
  },
  {
   "cell_type": "code",
   "execution_count": 23,
   "id": "41e68213",
   "metadata": {},
   "outputs": [
    {
     "data": {
      "text/plain": [
       "5"
      ]
     },
     "execution_count": 23,
     "metadata": {},
     "output_type": "execute_result"
    }
   ],
   "source": [
    "d"
   ]
  },
  {
   "cell_type": "code",
   "execution_count": 24,
   "id": "b5f93422",
   "metadata": {},
   "outputs": [],
   "source": [
    "e=a*b"
   ]
  },
  {
   "cell_type": "code",
   "execution_count": 25,
   "id": "167883eb",
   "metadata": {},
   "outputs": [
    {
     "data": {
      "text/plain": [
       "50"
      ]
     },
     "execution_count": 25,
     "metadata": {},
     "output_type": "execute_result"
    }
   ],
   "source": [
    "e"
   ]
  },
  {
   "cell_type": "code",
   "execution_count": 26,
   "id": "4588aebf",
   "metadata": {},
   "outputs": [],
   "source": [
    "f=a/b"
   ]
  },
  {
   "cell_type": "code",
   "execution_count": 27,
   "id": "300997e9",
   "metadata": {},
   "outputs": [
    {
     "data": {
      "text/plain": [
       "2.0"
      ]
     },
     "execution_count": 27,
     "metadata": {},
     "output_type": "execute_result"
    }
   ],
   "source": [
    "f"
   ]
  },
  {
   "cell_type": "code",
   "execution_count": 28,
   "id": "ff0ad0b4",
   "metadata": {},
   "outputs": [
    {
     "data": {
      "text/plain": [
       "15"
      ]
     },
     "execution_count": 28,
     "metadata": {},
     "output_type": "execute_result"
    }
   ],
   "source": [
    "c"
   ]
  },
  {
   "cell_type": "markdown",
   "id": "d64ea53e",
   "metadata": {},
   "source": [
    "area of rectangle "
   ]
  },
  {
   "cell_type": "code",
   "execution_count": 29,
   "id": "0d2702c1",
   "metadata": {},
   "outputs": [],
   "source": [
    "length=56"
   ]
  },
  {
   "cell_type": "code",
   "execution_count": 30,
   "id": "1c59be29",
   "metadata": {},
   "outputs": [],
   "source": [
    "breadth=4"
   ]
  },
  {
   "cell_type": "code",
   "execution_count": 31,
   "id": "8dad0d18",
   "metadata": {},
   "outputs": [],
   "source": [
    "area=length*breadth"
   ]
  },
  {
   "cell_type": "code",
   "execution_count": 32,
   "id": "e5134c26",
   "metadata": {},
   "outputs": [
    {
     "data": {
      "text/plain": [
       "224"
      ]
     },
     "execution_count": 32,
     "metadata": {},
     "output_type": "execute_result"
    }
   ],
   "source": [
    "area"
   ]
  },
  {
   "cell_type": "code",
   "execution_count": 33,
   "id": "31e514df",
   "metadata": {},
   "outputs": [
    {
     "name": "stdout",
     "output_type": "stream",
     "text": [
      "hello python world\n"
     ]
    }
   ],
   "source": [
    "print(\"hello python world\")"
   ]
  },
  {
   "cell_type": "code",
   "execution_count": 34,
   "id": "f8df6a1e",
   "metadata": {},
   "outputs": [
    {
     "name": "stdout",
     "output_type": "stream",
     "text": [
      "python\n"
     ]
    }
   ],
   "source": [
    "print(\"python\")"
   ]
  },
  {
   "cell_type": "code",
   "execution_count": 35,
   "id": "dc927e05",
   "metadata": {},
   "outputs": [
    {
     "name": "stdout",
     "output_type": "stream",
     "text": [
      "hello world\n"
     ]
    }
   ],
   "source": [
    "print('hello world')"
   ]
  },
  {
   "cell_type": "code",
   "execution_count": 50,
   "id": "486cc823",
   "metadata": {},
   "outputs": [],
   "source": [
    "var1=32"
   ]
  },
  {
   "cell_type": "code",
   "execution_count": 51,
   "id": "851076bd",
   "metadata": {},
   "outputs": [],
   "source": [
    "var2=2"
   ]
  },
  {
   "cell_type": "code",
   "execution_count": 52,
   "id": "a47b3ff6",
   "metadata": {},
   "outputs": [
    {
     "data": {
      "text/plain": [
       "34"
      ]
     },
     "execution_count": 52,
     "metadata": {},
     "output_type": "execute_result"
    }
   ],
   "source": [
    "var1+var2"
   ]
  },
  {
   "cell_type": "code",
   "execution_count": 53,
   "id": "d52ca85a",
   "metadata": {},
   "outputs": [
    {
     "name": "stdout",
     "output_type": "stream",
     "text": [
      "15\n"
     ]
    }
   ],
   "source": [
    "print(c)"
   ]
  },
  {
   "cell_type": "code",
   "execution_count": 54,
   "id": "7a708b6d",
   "metadata": {},
   "outputs": [
    {
     "name": "stdout",
     "output_type": "stream",
     "text": [
      "c=\n"
     ]
    }
   ],
   "source": [
    "print(\"c=\")"
   ]
  },
  {
   "cell_type": "code",
   "execution_count": 55,
   "id": "6afa8607",
   "metadata": {},
   "outputs": [
    {
     "name": "stdout",
     "output_type": "stream",
     "text": [
      "c= 15\n"
     ]
    }
   ],
   "source": [
    "print(\"c=\",c)"
   ]
  },
  {
   "cell_type": "code",
   "execution_count": 56,
   "id": "41b19854",
   "metadata": {},
   "outputs": [
    {
     "name": "stdout",
     "output_type": "stream",
     "text": [
      "area= 224\n"
     ]
    }
   ],
   "source": [
    "print(\"area=\",area)"
   ]
  },
  {
   "cell_type": "markdown",
   "id": "a7cd1f3a",
   "metadata": {},
   "source": [
    "area of circle"
   ]
  },
  {
   "cell_type": "code",
   "execution_count": 64,
   "id": "2c352a78",
   "metadata": {},
   "outputs": [],
   "source": [
    "pi=3.14"
   ]
  },
  {
   "cell_type": "code",
   "execution_count": 65,
   "id": "06b81da6",
   "metadata": {},
   "outputs": [],
   "source": [
    "radius=8"
   ]
  },
  {
   "cell_type": "code",
   "execution_count": 67,
   "id": "cdb081ac",
   "metadata": {},
   "outputs": [
    {
     "data": {
      "text/plain": [
       "200.96"
      ]
     },
     "execution_count": 67,
     "metadata": {},
     "output_type": "execute_result"
    }
   ],
   "source": [
    "pi*(radius**2)"
   ]
  },
  {
   "cell_type": "code",
   "execution_count": 70,
   "id": "b59417ca",
   "metadata": {},
   "outputs": [],
   "source": [
    "areaofcircle = pi*(radius**2)"
   ]
  },
  {
   "cell_type": "code",
   "execution_count": 72,
   "id": "008ce2d5",
   "metadata": {},
   "outputs": [
    {
     "name": "stdout",
     "output_type": "stream",
     "text": [
      "areaofcircle= 200.96\n"
     ]
    }
   ],
   "source": [
    "print(\"areaofcircle=\",areaofcircle)"
   ]
  },
  {
   "cell_type": "code",
   "execution_count": 36,
   "id": "cc90a14e",
   "metadata": {},
   "outputs": [],
   "source": [
    "g=15"
   ]
  },
  {
   "cell_type": "code",
   "execution_count": 37,
   "id": "012d7512",
   "metadata": {},
   "outputs": [
    {
     "data": {
      "text/plain": [
       "15"
      ]
     },
     "execution_count": 37,
     "metadata": {},
     "output_type": "execute_result"
    }
   ],
   "source": [
    "g"
   ]
  },
  {
   "cell_type": "code",
   "execution_count": 38,
   "id": "8427c0be",
   "metadata": {},
   "outputs": [
    {
     "data": {
      "text/plain": [
       "int"
      ]
     },
     "execution_count": 38,
     "metadata": {},
     "output_type": "execute_result"
    }
   ],
   "source": [
    "type(g)"
   ]
  },
  {
   "cell_type": "code",
   "execution_count": 39,
   "id": "36c55d24",
   "metadata": {},
   "outputs": [],
   "source": [
    "country=(\"india\")"
   ]
  },
  {
   "cell_type": "code",
   "execution_count": 41,
   "id": "66abca77",
   "metadata": {},
   "outputs": [
    {
     "data": {
      "text/plain": [
       "'india'"
      ]
     },
     "execution_count": 41,
     "metadata": {},
     "output_type": "execute_result"
    }
   ],
   "source": [
    "\"india\""
   ]
  },
  {
   "cell_type": "code",
   "execution_count": 42,
   "id": "1f4c3859",
   "metadata": {},
   "outputs": [
    {
     "data": {
      "text/plain": [
       "str"
      ]
     },
     "execution_count": 42,
     "metadata": {},
     "output_type": "execute_result"
    }
   ],
   "source": [
    "type(country)"
   ]
  },
  {
   "cell_type": "code",
   "execution_count": 43,
   "id": "c32d98ae",
   "metadata": {},
   "outputs": [],
   "source": [
    "p=1.5"
   ]
  },
  {
   "cell_type": "code",
   "execution_count": 44,
   "id": "47216829",
   "metadata": {},
   "outputs": [
    {
     "data": {
      "text/plain": [
       "1.5"
      ]
     },
     "execution_count": 44,
     "metadata": {},
     "output_type": "execute_result"
    }
   ],
   "source": [
    "p"
   ]
  },
  {
   "cell_type": "code",
   "execution_count": 45,
   "id": "b95a951b",
   "metadata": {},
   "outputs": [
    {
     "data": {
      "text/plain": [
       "float"
      ]
     },
     "execution_count": 45,
     "metadata": {},
     "output_type": "execute_result"
    }
   ],
   "source": [
    "type(p)"
   ]
  },
  {
   "cell_type": "code",
   "execution_count": 46,
   "id": "2861104e",
   "metadata": {},
   "outputs": [],
   "source": [
    "q=\"15\""
   ]
  },
  {
   "cell_type": "code",
   "execution_count": 47,
   "id": "af752e05",
   "metadata": {},
   "outputs": [
    {
     "data": {
      "text/plain": [
       "'15'"
      ]
     },
     "execution_count": 47,
     "metadata": {},
     "output_type": "execute_result"
    }
   ],
   "source": [
    "q"
   ]
  },
  {
   "cell_type": "code",
   "execution_count": 48,
   "id": "95cd811e",
   "metadata": {},
   "outputs": [
    {
     "data": {
      "text/plain": [
       "str"
      ]
     },
     "execution_count": 48,
     "metadata": {},
     "output_type": "execute_result"
    }
   ],
   "source": [
    "type(q)"
   ]
  },
  {
   "cell_type": "code",
   "execution_count": 49,
   "id": "8eb2c8ee",
   "metadata": {},
   "outputs": [
    {
     "data": {
      "text/plain": [
       "True"
      ]
     },
     "execution_count": 49,
     "metadata": {},
     "output_type": "execute_result"
    }
   ],
   "source": [
    "100==100"
   ]
  },
  {
   "cell_type": "code",
   "execution_count": 73,
   "id": "d5f34679",
   "metadata": {},
   "outputs": [
    {
     "data": {
      "text/plain": [
       "True"
      ]
     },
     "execution_count": 73,
     "metadata": {},
     "output_type": "execute_result"
    }
   ],
   "source": [
    "50>40"
   ]
  },
  {
   "cell_type": "code",
   "execution_count": 74,
   "id": "de337e6c",
   "metadata": {},
   "outputs": [
    {
     "data": {
      "text/plain": [
       "False"
      ]
     },
     "execution_count": 74,
     "metadata": {},
     "output_type": "execute_result"
    }
   ],
   "source": [
    "40>50"
   ]
  },
  {
   "cell_type": "code",
   "execution_count": 76,
   "id": "2f96cb27",
   "metadata": {},
   "outputs": [
    {
     "data": {
      "text/plain": [
       "True"
      ]
     },
     "execution_count": 76,
     "metadata": {},
     "output_type": "execute_result"
    }
   ],
   "source": [
    "40==40"
   ]
  },
  {
   "cell_type": "code",
   "execution_count": 77,
   "id": "1b511ffc",
   "metadata": {},
   "outputs": [
    {
     "data": {
      "text/plain": [
       "False"
      ]
     },
     "execution_count": 77,
     "metadata": {},
     "output_type": "execute_result"
    }
   ],
   "source": [
    "50<40"
   ]
  },
  {
   "cell_type": "code",
   "execution_count": 78,
   "id": "098aef5f",
   "metadata": {},
   "outputs": [
    {
     "data": {
      "text/plain": [
       "True"
      ]
     },
     "execution_count": 78,
     "metadata": {},
     "output_type": "execute_result"
    }
   ],
   "source": [
    "40<50"
   ]
  },
  {
   "cell_type": "code",
   "execution_count": 79,
   "id": "167a7842",
   "metadata": {},
   "outputs": [
    {
     "data": {
      "text/plain": [
       "False"
      ]
     },
     "execution_count": 79,
     "metadata": {},
     "output_type": "execute_result"
    }
   ],
   "source": [
    "10!=10"
   ]
  },
  {
   "cell_type": "code",
   "execution_count": 80,
   "id": "ea984378",
   "metadata": {},
   "outputs": [
    {
     "data": {
      "text/plain": [
       "True"
      ]
     },
     "execution_count": 80,
     "metadata": {},
     "output_type": "execute_result"
    }
   ],
   "source": [
    "10!=4"
   ]
  },
  {
   "cell_type": "code",
   "execution_count": 81,
   "id": "18a0f984",
   "metadata": {},
   "outputs": [
    {
     "data": {
      "text/plain": [
       "True"
      ]
     },
     "execution_count": 81,
     "metadata": {},
     "output_type": "execute_result"
    }
   ],
   "source": [
    "75>=75"
   ]
  },
  {
   "cell_type": "code",
   "execution_count": 82,
   "id": "b233a5d8",
   "metadata": {},
   "outputs": [
    {
     "data": {
      "text/plain": [
       "True"
      ]
     },
     "execution_count": 82,
     "metadata": {},
     "output_type": "execute_result"
    }
   ],
   "source": [
    "75>=74"
   ]
  },
  {
   "cell_type": "code",
   "execution_count": 83,
   "id": "014d4868",
   "metadata": {},
   "outputs": [
    {
     "data": {
      "text/plain": [
       "False"
      ]
     },
     "execution_count": 83,
     "metadata": {},
     "output_type": "execute_result"
    }
   ],
   "source": [
    "75>=76"
   ]
  },
  {
   "cell_type": "code",
   "execution_count": 84,
   "id": "2de83687",
   "metadata": {},
   "outputs": [
    {
     "data": {
      "text/plain": [
       "True"
      ]
     },
     "execution_count": 84,
     "metadata": {},
     "output_type": "execute_result"
    }
   ],
   "source": [
    "75<=75"
   ]
  },
  {
   "cell_type": "code",
   "execution_count": 85,
   "id": "fe2456a2",
   "metadata": {},
   "outputs": [
    {
     "data": {
      "text/plain": [
       "False"
      ]
     },
     "execution_count": 85,
     "metadata": {},
     "output_type": "execute_result"
    }
   ],
   "source": [
    "75<=74"
   ]
  },
  {
   "cell_type": "code",
   "execution_count": 86,
   "id": "13302ea8",
   "metadata": {},
   "outputs": [],
   "source": [
    "country=\"uk\""
   ]
  },
  {
   "cell_type": "code",
   "execution_count": 88,
   "id": "2a330701",
   "metadata": {},
   "outputs": [
    {
     "data": {
      "text/plain": [
       "'uk'"
      ]
     },
     "execution_count": 88,
     "metadata": {},
     "output_type": "execute_result"
    }
   ],
   "source": [
    "country"
   ]
  },
  {
   "cell_type": "code",
   "execution_count": 89,
   "id": "26d237ef",
   "metadata": {},
   "outputs": [],
   "source": [
    "name=\"vishnu\""
   ]
  },
  {
   "cell_type": "code",
   "execution_count": 90,
   "id": "f565e349",
   "metadata": {},
   "outputs": [
    {
     "data": {
      "text/plain": [
       "'vishnu'"
      ]
     },
     "execution_count": 90,
     "metadata": {},
     "output_type": "execute_result"
    }
   ],
   "source": [
    "name"
   ]
  },
  {
   "cell_type": "code",
   "execution_count": 91,
   "id": "060af20b",
   "metadata": {},
   "outputs": [
    {
     "name": "stdout",
     "output_type": "stream",
     "text": [
      "enter any country nameindia\n"
     ]
    }
   ],
   "source": [
    "country=input(\"enter any country name\")"
   ]
  },
  {
   "cell_type": "code",
   "execution_count": 92,
   "id": "af2fb090",
   "metadata": {},
   "outputs": [
    {
     "data": {
      "text/plain": [
       "'india'"
      ]
     },
     "execution_count": 92,
     "metadata": {},
     "output_type": "execute_result"
    }
   ],
   "source": [
    "country"
   ]
  },
  {
   "cell_type": "code",
   "execution_count": 94,
   "id": "e9a62b69",
   "metadata": {},
   "outputs": [
    {
     "name": "stdout",
     "output_type": "stream",
     "text": [
      "enter city namesiddapura\n"
     ]
    }
   ],
   "source": [
    "city=input(\"enter city name\")"
   ]
  },
  {
   "cell_type": "code",
   "execution_count": 95,
   "id": "26df8a07",
   "metadata": {},
   "outputs": [
    {
     "data": {
      "text/plain": [
       "'siddapura'"
      ]
     },
     "execution_count": 95,
     "metadata": {},
     "output_type": "execute_result"
    }
   ],
   "source": [
    "city"
   ]
  },
  {
   "cell_type": "code",
   "execution_count": 96,
   "id": "ee7baed8",
   "metadata": {},
   "outputs": [
    {
     "name": "stdout",
     "output_type": "stream",
     "text": [
      "enter value of x4\n"
     ]
    }
   ],
   "source": [
    "x=input(\"enter value of x\")"
   ]
  },
  {
   "cell_type": "code",
   "execution_count": 97,
   "id": "aaa0c72b",
   "metadata": {},
   "outputs": [
    {
     "data": {
      "text/plain": [
       "'4'"
      ]
     },
     "execution_count": 97,
     "metadata": {},
     "output_type": "execute_result"
    }
   ],
   "source": [
    "x"
   ]
  },
  {
   "cell_type": "code",
   "execution_count": 98,
   "id": "119ce216",
   "metadata": {},
   "outputs": [
    {
     "name": "stdout",
     "output_type": "stream",
     "text": [
      "enter value of y5\n"
     ]
    }
   ],
   "source": [
    "y=input(\"enter value of y\")"
   ]
  },
  {
   "cell_type": "code",
   "execution_count": 99,
   "id": "4f9f64ea",
   "metadata": {},
   "outputs": [
    {
     "data": {
      "text/plain": [
       "'5'"
      ]
     },
     "execution_count": 99,
     "metadata": {},
     "output_type": "execute_result"
    }
   ],
   "source": [
    "y"
   ]
  },
  {
   "cell_type": "code",
   "execution_count": 100,
   "id": "3ac17242",
   "metadata": {},
   "outputs": [
    {
     "data": {
      "text/plain": [
       "'45'"
      ]
     },
     "execution_count": 100,
     "metadata": {},
     "output_type": "execute_result"
    }
   ],
   "source": [
    "x+y"
   ]
  },
  {
   "cell_type": "markdown",
   "id": "241edcaa",
   "metadata": {},
   "source": [
    "45 because both are calculated as string will never be adedd"
   ]
  },
  {
   "cell_type": "markdown",
   "id": "6bce2b01",
   "metadata": {},
   "source": [
    "string concatination"
   ]
  },
  {
   "cell_type": "code",
   "execution_count": 101,
   "id": "90c84e32",
   "metadata": {},
   "outputs": [
    {
     "data": {
      "text/plain": [
       "'helloworld'"
      ]
     },
     "execution_count": 101,
     "metadata": {},
     "output_type": "execute_result"
    }
   ],
   "source": [
    "\"hello\"+\"world\""
   ]
  },
  {
   "cell_type": "code",
   "execution_count": 102,
   "id": "36325259",
   "metadata": {},
   "outputs": [
    {
     "data": {
      "text/plain": [
       "'happybirthday'"
      ]
     },
     "execution_count": 102,
     "metadata": {},
     "output_type": "execute_result"
    }
   ],
   "source": [
    "\"happy\"+\"birthday\""
   ]
  },
  {
   "cell_type": "code",
   "execution_count": 103,
   "id": "f7c3f558",
   "metadata": {},
   "outputs": [
    {
     "data": {
      "text/plain": [
       "'amazonecustomercarenumber'"
      ]
     },
     "execution_count": 103,
     "metadata": {},
     "output_type": "execute_result"
    }
   ],
   "source": [
    "\"amazone\"+\"customer\"+\"care\"+\"number\""
   ]
  },
  {
   "cell_type": "code",
   "execution_count": 104,
   "id": "5e53f8cb",
   "metadata": {},
   "outputs": [
    {
     "data": {
      "text/plain": [
       "'8020'"
      ]
     },
     "execution_count": 104,
     "metadata": {},
     "output_type": "execute_result"
    }
   ],
   "source": [
    "\"80\"+\"20\""
   ]
  },
  {
   "cell_type": "markdown",
   "id": "4c57219f",
   "metadata": {},
   "source": [
    "type casting"
   ]
  },
  {
   "cell_type": "code",
   "execution_count": 105,
   "id": "d8fc6ad3",
   "metadata": {},
   "outputs": [],
   "source": [
    "a=6"
   ]
  },
  {
   "cell_type": "code",
   "execution_count": 106,
   "id": "6e78e67f",
   "metadata": {},
   "outputs": [
    {
     "data": {
      "text/plain": [
       "int"
      ]
     },
     "execution_count": 106,
     "metadata": {},
     "output_type": "execute_result"
    }
   ],
   "source": [
    "type(a)"
   ]
  },
  {
   "cell_type": "code",
   "execution_count": 107,
   "id": "4e096044",
   "metadata": {},
   "outputs": [],
   "source": [
    "b=89"
   ]
  },
  {
   "cell_type": "code",
   "execution_count": 108,
   "id": "a2fb1e0d",
   "metadata": {},
   "outputs": [
    {
     "data": {
      "text/plain": [
       "89"
      ]
     },
     "execution_count": 108,
     "metadata": {},
     "output_type": "execute_result"
    }
   ],
   "source": [
    "b"
   ]
  },
  {
   "cell_type": "code",
   "execution_count": 109,
   "id": "ef573b9c",
   "metadata": {},
   "outputs": [],
   "source": [
    "m=float(b)"
   ]
  },
  {
   "cell_type": "code",
   "execution_count": 110,
   "id": "4f7fbb68",
   "metadata": {},
   "outputs": [
    {
     "data": {
      "text/plain": [
       "89.0"
      ]
     },
     "execution_count": 110,
     "metadata": {},
     "output_type": "execute_result"
    }
   ],
   "source": [
    "m"
   ]
  },
  {
   "cell_type": "code",
   "execution_count": 112,
   "id": "f2746f73",
   "metadata": {},
   "outputs": [
    {
     "data": {
      "text/plain": [
       "float"
      ]
     },
     "execution_count": 112,
     "metadata": {},
     "output_type": "execute_result"
    }
   ],
   "source": [
    "type(m)"
   ]
  },
  {
   "cell_type": "code",
   "execution_count": 113,
   "id": "8bbffaa8",
   "metadata": {},
   "outputs": [
    {
     "data": {
      "text/plain": [
       "str"
      ]
     },
     "execution_count": 113,
     "metadata": {},
     "output_type": "execute_result"
    }
   ],
   "source": [
    "type(\"m\")"
   ]
  },
  {
   "cell_type": "code",
   "execution_count": 114,
   "id": "08ca7b83",
   "metadata": {},
   "outputs": [],
   "source": [
    "p=85.5"
   ]
  },
  {
   "cell_type": "code",
   "execution_count": 115,
   "id": "8d572a18",
   "metadata": {},
   "outputs": [
    {
     "data": {
      "text/plain": [
       "85.5"
      ]
     },
     "execution_count": 115,
     "metadata": {},
     "output_type": "execute_result"
    }
   ],
   "source": [
    "p"
   ]
  },
  {
   "cell_type": "code",
   "execution_count": 116,
   "id": "8b15eed8",
   "metadata": {},
   "outputs": [
    {
     "data": {
      "text/plain": [
       "float"
      ]
     },
     "execution_count": 116,
     "metadata": {},
     "output_type": "execute_result"
    }
   ],
   "source": [
    "type(p)"
   ]
  },
  {
   "cell_type": "code",
   "execution_count": 117,
   "id": "aedece36",
   "metadata": {},
   "outputs": [
    {
     "data": {
      "text/plain": [
       "85"
      ]
     },
     "execution_count": 117,
     "metadata": {},
     "output_type": "execute_result"
    }
   ],
   "source": [
    "int(p)"
   ]
  },
  {
   "cell_type": "code",
   "execution_count": 125,
   "id": "a3e6dc79",
   "metadata": {},
   "outputs": [
    {
     "name": "stdout",
     "output_type": "stream",
     "text": [
      "enter the value of x4\n"
     ]
    }
   ],
   "source": [
    "x=int(input(\"enter the value of x\"))"
   ]
  },
  {
   "cell_type": "code",
   "execution_count": 126,
   "id": "11eed571",
   "metadata": {},
   "outputs": [
    {
     "name": "stdout",
     "output_type": "stream",
     "text": [
      "enter the value of y5\n"
     ]
    }
   ],
   "source": [
    "y=int(input(\"enter the value of y\"))"
   ]
  },
  {
   "cell_type": "code",
   "execution_count": 127,
   "id": "0a85ee0e",
   "metadata": {},
   "outputs": [
    {
     "data": {
      "text/plain": [
       "int"
      ]
     },
     "execution_count": 127,
     "metadata": {},
     "output_type": "execute_result"
    }
   ],
   "source": [
    "type(x)"
   ]
  },
  {
   "cell_type": "code",
   "execution_count": 128,
   "id": "354fd35c",
   "metadata": {},
   "outputs": [
    {
     "data": {
      "text/plain": [
       "int"
      ]
     },
     "execution_count": 128,
     "metadata": {},
     "output_type": "execute_result"
    }
   ],
   "source": [
    "type(y)"
   ]
  },
  {
   "cell_type": "code",
   "execution_count": 129,
   "id": "0cdf2a4b",
   "metadata": {},
   "outputs": [
    {
     "data": {
      "text/plain": [
       "9"
      ]
     },
     "execution_count": 129,
     "metadata": {},
     "output_type": "execute_result"
    }
   ],
   "source": [
    "x+y"
   ]
  },
  {
   "cell_type": "code",
   "execution_count": 7,
   "id": "57f198dd",
   "metadata": {},
   "outputs": [
    {
     "name": "stdout",
     "output_type": "stream",
     "text": [
      "enter length45\n"
     ]
    }
   ],
   "source": [
    "length=int(input(\"enter length\"))"
   ]
  },
  {
   "cell_type": "code",
   "execution_count": 8,
   "id": "e0d04467",
   "metadata": {},
   "outputs": [
    {
     "name": "stdout",
     "output_type": "stream",
     "text": [
      "enter breadth65\n"
     ]
    }
   ],
   "source": [
    "breadth=int(input(\"enter breadth\"))"
   ]
  },
  {
   "cell_type": "code",
   "execution_count": 9,
   "id": "37d88fc8",
   "metadata": {},
   "outputs": [],
   "source": [
    "area=length*breadth"
   ]
  },
  {
   "cell_type": "code",
   "execution_count": 10,
   "id": "d260fae2",
   "metadata": {},
   "outputs": [
    {
     "name": "stdout",
     "output_type": "stream",
     "text": [
      "area= 2925\n"
     ]
    }
   ],
   "source": [
    "print(\"area=\",area)"
   ]
  },
  {
   "cell_type": "code",
   "execution_count": 11,
   "id": "5ea4d895",
   "metadata": {},
   "outputs": [
    {
     "name": "stdout",
     "output_type": "stream",
     "text": [
      "the area of rectangle= 2925\n"
     ]
    }
   ],
   "source": [
    "print(\"the area of rectangle=\",area)"
   ]
  },
  {
   "cell_type": "markdown",
   "id": "f90bd00b",
   "metadata": {},
   "source": [
    "python basics"
   ]
  },
  {
   "cell_type": "code",
   "execution_count": 12,
   "id": "f11e89c5",
   "metadata": {},
   "outputs": [],
   "source": [
    "a=10"
   ]
  },
  {
   "cell_type": "code",
   "execution_count": 13,
   "id": "a280820f",
   "metadata": {},
   "outputs": [
    {
     "data": {
      "text/plain": [
       "10"
      ]
     },
     "execution_count": 13,
     "metadata": {},
     "output_type": "execute_result"
    }
   ],
   "source": [
    "a"
   ]
  },
  {
   "cell_type": "code",
   "execution_count": 14,
   "id": "164fe3a2",
   "metadata": {},
   "outputs": [
    {
     "data": {
      "text/plain": [
       "int"
      ]
     },
     "execution_count": 14,
     "metadata": {},
     "output_type": "execute_result"
    }
   ],
   "source": [
    "type(a)"
   ]
  },
  {
   "cell_type": "code",
   "execution_count": 15,
   "id": "19ee9242",
   "metadata": {},
   "outputs": [
    {
     "data": {
      "text/plain": [
       "10.0"
      ]
     },
     "execution_count": 15,
     "metadata": {},
     "output_type": "execute_result"
    }
   ],
   "source": [
    "float(a)"
   ]
  },
  {
   "cell_type": "code",
   "execution_count": 16,
   "id": "6403d327",
   "metadata": {},
   "outputs": [],
   "source": [
    "b=(float(a))"
   ]
  },
  {
   "cell_type": "code",
   "execution_count": 17,
   "id": "2144a17a",
   "metadata": {},
   "outputs": [
    {
     "data": {
      "text/plain": [
       "10.0"
      ]
     },
     "execution_count": 17,
     "metadata": {},
     "output_type": "execute_result"
    }
   ],
   "source": [
    "b"
   ]
  },
  {
   "cell_type": "code",
   "execution_count": 18,
   "id": "6980c099",
   "metadata": {},
   "outputs": [],
   "source": [
    "a=\"10\""
   ]
  },
  {
   "cell_type": "code",
   "execution_count": 19,
   "id": "456c9e23",
   "metadata": {},
   "outputs": [
    {
     "data": {
      "text/plain": [
       "str"
      ]
     },
     "execution_count": 19,
     "metadata": {},
     "output_type": "execute_result"
    }
   ],
   "source": [
    "type(a)"
   ]
  },
  {
   "cell_type": "code",
   "execution_count": 20,
   "id": "f094bfdc",
   "metadata": {},
   "outputs": [],
   "source": [
    "b=\"2\""
   ]
  },
  {
   "cell_type": "code",
   "execution_count": 21,
   "id": "3e74f062",
   "metadata": {},
   "outputs": [
    {
     "data": {
      "text/plain": [
       "str"
      ]
     },
     "execution_count": 21,
     "metadata": {},
     "output_type": "execute_result"
    }
   ],
   "source": [
    "type(b)"
   ]
  },
  {
   "cell_type": "code",
   "execution_count": 22,
   "id": "bc3c2d40",
   "metadata": {},
   "outputs": [],
   "source": [
    "x=int(a)"
   ]
  },
  {
   "cell_type": "code",
   "execution_count": 23,
   "id": "3c77ab68",
   "metadata": {},
   "outputs": [
    {
     "data": {
      "text/plain": [
       "10"
      ]
     },
     "execution_count": 23,
     "metadata": {},
     "output_type": "execute_result"
    }
   ],
   "source": [
    "x"
   ]
  },
  {
   "cell_type": "code",
   "execution_count": 24,
   "id": "a2d893e2",
   "metadata": {},
   "outputs": [
    {
     "data": {
      "text/plain": [
       "int"
      ]
     },
     "execution_count": 24,
     "metadata": {},
     "output_type": "execute_result"
    }
   ],
   "source": [
    "type(x)"
   ]
  },
  {
   "cell_type": "code",
   "execution_count": 25,
   "id": "17c1c6a6",
   "metadata": {},
   "outputs": [],
   "source": [
    "b=\"55\""
   ]
  },
  {
   "cell_type": "code",
   "execution_count": 26,
   "id": "8a6065e6",
   "metadata": {},
   "outputs": [
    {
     "data": {
      "text/plain": [
       "str"
      ]
     },
     "execution_count": 26,
     "metadata": {},
     "output_type": "execute_result"
    }
   ],
   "source": [
    "type(b)"
   ]
  },
  {
   "cell_type": "markdown",
   "id": "99ab42e1",
   "metadata": {},
   "source": [
    "how to create a list"
   ]
  },
  {
   "cell_type": "code",
   "execution_count": 27,
   "id": "fc13143a",
   "metadata": {},
   "outputs": [],
   "source": [
    "l1=[1,2,3,4,5]"
   ]
  },
  {
   "cell_type": "code",
   "execution_count": 28,
   "id": "ad719360",
   "metadata": {},
   "outputs": [],
   "source": [
    "l2=[11,22,33,44,55]"
   ]
  },
  {
   "cell_type": "code",
   "execution_count": null,
   "id": "9449465b",
   "metadata": {},
   "outputs": [],
   "source": [
    "l3=[45.5,65.5,68.5,99.3]"
   ]
  },
  {
   "cell_type": "code",
   "execution_count": 29,
   "id": "23594be1",
   "metadata": {},
   "outputs": [],
   "source": [
    "l4=[\"a\",\"b\",\"c\",\"d\",\"e\",\"f\"]"
   ]
  },
  {
   "cell_type": "code",
   "execution_count": 30,
   "id": "6a1400df",
   "metadata": {},
   "outputs": [],
   "source": [
    "l5=  [\"mercury\",\"venus\",\"mass\",\"earth\"]"
   ]
  },
  {
   "cell_type": "code",
   "execution_count": null,
   "id": "7676b3cf",
   "metadata": {},
   "outputs": [],
   "source": [
    "L6=[21.31,\"MANGO\".5.5,TRUE]"
   ]
  },
  {
   "cell_type": "markdown",
   "id": "0d37147a",
   "metadata": {},
   "source": [
    "DATA STRUCTURES-4types"
   ]
  },
  {
   "cell_type": "markdown",
   "id": "9748d81a",
   "metadata": {},
   "source": [
    "1)list, 2)tuples, 3)dictionary, 4)sets"
   ]
  },
  {
   "cell_type": "code",
   "execution_count": 31,
   "id": "8e4c69a5",
   "metadata": {},
   "outputs": [],
   "source": [
    "mylist1=[1,2,3,4,5]"
   ]
  },
  {
   "cell_type": "code",
   "execution_count": 32,
   "id": "b5360979",
   "metadata": {},
   "outputs": [
    {
     "data": {
      "text/plain": [
       "[1, 2, 3, 4, 5]"
      ]
     },
     "execution_count": 32,
     "metadata": {},
     "output_type": "execute_result"
    }
   ],
   "source": [
    "mylist1"
   ]
  },
  {
   "cell_type": "code",
   "execution_count": 33,
   "id": "9a339841",
   "metadata": {},
   "outputs": [],
   "source": [
    "mylist2=[11,12,13,14,15]"
   ]
  },
  {
   "cell_type": "code",
   "execution_count": 34,
   "id": "023f279c",
   "metadata": {},
   "outputs": [
    {
     "data": {
      "text/plain": [
       "[11, 12, 13, 14, 15]"
      ]
     },
     "execution_count": 34,
     "metadata": {},
     "output_type": "execute_result"
    }
   ],
   "source": [
    "mylist2"
   ]
  },
  {
   "cell_type": "code",
   "execution_count": 35,
   "id": "06fd4836",
   "metadata": {},
   "outputs": [],
   "source": [
    "mylist3=[23.4,24.5,45.5,78.8,65.8,85.4]"
   ]
  },
  {
   "cell_type": "code",
   "execution_count": 36,
   "id": "f51f5342",
   "metadata": {},
   "outputs": [
    {
     "data": {
      "text/plain": [
       "[23.4, 24.5, 45.5, 78.8, 65.8, 85.4]"
      ]
     },
     "execution_count": 36,
     "metadata": {},
     "output_type": "execute_result"
    }
   ],
   "source": [
    "mylist3"
   ]
  },
  {
   "cell_type": "code",
   "execution_count": 37,
   "id": "9261e549",
   "metadata": {},
   "outputs": [],
   "source": [
    "charlist=['a','b','c','d','e']"
   ]
  },
  {
   "cell_type": "raw",
   "id": "702468a0",
   "metadata": {},
   "source": [
    "charlist"
   ]
  },
  {
   "cell_type": "code",
   "execution_count": 39,
   "id": "9d73098e",
   "metadata": {},
   "outputs": [],
   "source": [
    "stringlist=[\"abc\",\"cvb\",\"asd\",\"hjk\",\"asd\"]"
   ]
  },
  {
   "cell_type": "code",
   "execution_count": 40,
   "id": "8891a2cc",
   "metadata": {},
   "outputs": [
    {
     "data": {
      "text/plain": [
       "['abc', 'cvb', 'asd', 'hjk', 'asd']"
      ]
     },
     "execution_count": 40,
     "metadata": {},
     "output_type": "execute_result"
    }
   ],
   "source": [
    "stringlist"
   ]
  },
  {
   "cell_type": "code",
   "execution_count": 41,
   "id": "7f3984c6",
   "metadata": {},
   "outputs": [],
   "source": [
    "mixlist=[1,24.5,'a',\"abc\",\"afh\"]"
   ]
  },
  {
   "cell_type": "code",
   "execution_count": 42,
   "id": "da08e357",
   "metadata": {},
   "outputs": [
    {
     "data": {
      "text/plain": [
       "[1, 24.5, 'a', 'abc', 'afh']"
      ]
     },
     "execution_count": 42,
     "metadata": {},
     "output_type": "execute_result"
    }
   ],
   "source": [
    "mixlist"
   ]
  },
  {
   "cell_type": "markdown",
   "id": "d9586119",
   "metadata": {},
   "source": [
    "indexing"
   ]
  },
  {
   "cell_type": "code",
   "execution_count": 43,
   "id": "0835b99f",
   "metadata": {},
   "outputs": [],
   "source": [
    "list1=['apple','mango','banana','grapes','pinaple']"
   ]
  },
  {
   "cell_type": "code",
   "execution_count": 44,
   "id": "5dfc1c37",
   "metadata": {},
   "outputs": [
    {
     "data": {
      "text/plain": [
       "'mango'"
      ]
     },
     "execution_count": 44,
     "metadata": {},
     "output_type": "execute_result"
    }
   ],
   "source": [
    "list1[1]"
   ]
  },
  {
   "cell_type": "code",
   "execution_count": 45,
   "id": "07837610",
   "metadata": {},
   "outputs": [
    {
     "data": {
      "text/plain": [
       "'banana'"
      ]
     },
     "execution_count": 45,
     "metadata": {},
     "output_type": "execute_result"
    }
   ],
   "source": [
    "list1[2]"
   ]
  },
  {
   "cell_type": "code",
   "execution_count": 46,
   "id": "24a81d63",
   "metadata": {},
   "outputs": [
    {
     "data": {
      "text/plain": [
       "'apple'"
      ]
     },
     "execution_count": 46,
     "metadata": {},
     "output_type": "execute_result"
    }
   ],
   "source": [
    "list1[0]"
   ]
  },
  {
   "cell_type": "code",
   "execution_count": 47,
   "id": "1f3ee3eb",
   "metadata": {},
   "outputs": [
    {
     "data": {
      "text/plain": [
       "'grapes'"
      ]
     },
     "execution_count": 47,
     "metadata": {},
     "output_type": "execute_result"
    }
   ],
   "source": [
    "list1[3]"
   ]
  },
  {
   "cell_type": "code",
   "execution_count": 48,
   "id": "12e435af",
   "metadata": {},
   "outputs": [],
   "source": [
    "mixlist=[\"asdf\",\"aswe\",1,2,24.5,12.4,'a','b']"
   ]
  },
  {
   "cell_type": "code",
   "execution_count": 49,
   "id": "ae961b9e",
   "metadata": {},
   "outputs": [
    {
     "data": {
      "text/plain": [
       "'asdf'"
      ]
     },
     "execution_count": 49,
     "metadata": {},
     "output_type": "execute_result"
    }
   ],
   "source": [
    "mixlist[0]"
   ]
  },
  {
   "cell_type": "code",
   "execution_count": 50,
   "id": "a2aa55c1",
   "metadata": {},
   "outputs": [
    {
     "data": {
      "text/plain": [
       "'aswe'"
      ]
     },
     "execution_count": 50,
     "metadata": {},
     "output_type": "execute_result"
    }
   ],
   "source": [
    "mixlist[1]"
   ]
  },
  {
   "cell_type": "code",
   "execution_count": 51,
   "id": "17fc8712",
   "metadata": {},
   "outputs": [
    {
     "data": {
      "text/plain": [
       "1"
      ]
     },
     "execution_count": 51,
     "metadata": {},
     "output_type": "execute_result"
    }
   ],
   "source": [
    "mixlist[2]"
   ]
  },
  {
   "cell_type": "code",
   "execution_count": 55,
   "id": "fe8911e1",
   "metadata": {},
   "outputs": [
    {
     "data": {
      "text/plain": [
       "24.5"
      ]
     },
     "execution_count": 55,
     "metadata": {},
     "output_type": "execute_result"
    }
   ],
   "source": [
    "mixlist[4]"
   ]
  },
  {
   "cell_type": "markdown",
   "id": "d54809fe",
   "metadata": {},
   "source": [
    "positive indexing and negative indexing"
   ]
  },
  {
   "cell_type": "code",
   "execution_count": 54,
   "id": "8f6d922e",
   "metadata": {},
   "outputs": [],
   "source": [
    "carlist=[\"audi\",\"sedan\",\"ferari\",\"range rover\",\"bugatti\",\"jaguar\",\"tesla\"]"
   ]
  },
  {
   "cell_type": "code",
   "execution_count": 56,
   "id": "481c4cbc",
   "metadata": {},
   "outputs": [
    {
     "data": {
      "text/plain": [
       "'audi'"
      ]
     },
     "execution_count": 56,
     "metadata": {},
     "output_type": "execute_result"
    }
   ],
   "source": [
    "carlist[0]"
   ]
  },
  {
   "cell_type": "code",
   "execution_count": 57,
   "id": "01f44473",
   "metadata": {},
   "outputs": [
    {
     "data": {
      "text/plain": [
       "'sedan'"
      ]
     },
     "execution_count": 57,
     "metadata": {},
     "output_type": "execute_result"
    }
   ],
   "source": [
    "carlist[1]"
   ]
  },
  {
   "cell_type": "code",
   "execution_count": 58,
   "id": "c4902a9e",
   "metadata": {},
   "outputs": [
    {
     "data": {
      "text/plain": [
       "'ferari'"
      ]
     },
     "execution_count": 58,
     "metadata": {},
     "output_type": "execute_result"
    }
   ],
   "source": [
    "carlist[2]"
   ]
  },
  {
   "cell_type": "code",
   "execution_count": 59,
   "id": "8dbb7e1d",
   "metadata": {},
   "outputs": [
    {
     "data": {
      "text/plain": [
       "'tesla'"
      ]
     },
     "execution_count": 59,
     "metadata": {},
     "output_type": "execute_result"
    }
   ],
   "source": [
    "carlist[6]"
   ]
  },
  {
   "cell_type": "code",
   "execution_count": 60,
   "id": "2e31bd9c",
   "metadata": {},
   "outputs": [
    {
     "data": {
      "text/plain": [
       "'audi'"
      ]
     },
     "execution_count": 60,
     "metadata": {},
     "output_type": "execute_result"
    }
   ],
   "source": [
    "carlist[-0]"
   ]
  },
  {
   "cell_type": "code",
   "execution_count": 61,
   "id": "fee66354",
   "metadata": {},
   "outputs": [
    {
     "data": {
      "text/plain": [
       "'audi'"
      ]
     },
     "execution_count": 61,
     "metadata": {},
     "output_type": "execute_result"
    }
   ],
   "source": [
    "carlist[-7]"
   ]
  },
  {
   "cell_type": "code",
   "execution_count": 62,
   "id": "a2155601",
   "metadata": {},
   "outputs": [
    {
     "data": {
      "text/plain": [
       "'tesla'"
      ]
     },
     "execution_count": 62,
     "metadata": {},
     "output_type": "execute_result"
    }
   ],
   "source": [
    "carlist[-1]"
   ]
  },
  {
   "cell_type": "code",
   "execution_count": 63,
   "id": "efd46236",
   "metadata": {},
   "outputs": [
    {
     "data": {
      "text/plain": [
       "'jaguar'"
      ]
     },
     "execution_count": 63,
     "metadata": {},
     "output_type": "execute_result"
    }
   ],
   "source": [
    "carlist[-2]"
   ]
  },
  {
   "cell_type": "markdown",
   "id": "4daa1a18",
   "metadata": {},
   "source": [
    "SLICING"
   ]
  },
  {
   "cell_type": "code",
   "execution_count": 64,
   "id": "d32723c8",
   "metadata": {},
   "outputs": [
    {
     "data": {
      "text/plain": [
       "['audi', 'sedan', 'ferari', 'range rover', 'bugatti', 'jaguar', 'tesla']"
      ]
     },
     "execution_count": 64,
     "metadata": {},
     "output_type": "execute_result"
    }
   ],
   "source": [
    "carlist"
   ]
  },
  {
   "cell_type": "code",
   "execution_count": 65,
   "id": "a8d21cdb",
   "metadata": {},
   "outputs": [
    {
     "data": {
      "text/plain": [
       "['audi', 'sedan']"
      ]
     },
     "execution_count": 65,
     "metadata": {},
     "output_type": "execute_result"
    }
   ],
   "source": [
    "carlist[0:2]"
   ]
  },
  {
   "cell_type": "code",
   "execution_count": 66,
   "id": "c668a5cb",
   "metadata": {},
   "outputs": [
    {
     "data": {
      "text/plain": [
       "['ferari', 'range rover', 'bugatti', 'jaguar']"
      ]
     },
     "execution_count": 66,
     "metadata": {},
     "output_type": "execute_result"
    }
   ],
   "source": [
    "carlist[2:6]"
   ]
  },
  {
   "cell_type": "code",
   "execution_count": 68,
   "id": "103d8884",
   "metadata": {},
   "outputs": [
    {
     "data": {
      "text/plain": [
       "['sedan']"
      ]
     },
     "execution_count": 68,
     "metadata": {},
     "output_type": "execute_result"
    }
   ],
   "source": [
    "carlist[1:2]"
   ]
  },
  {
   "cell_type": "code",
   "execution_count": 69,
   "id": "63443056",
   "metadata": {},
   "outputs": [
    {
     "data": {
      "text/plain": [
       "['audi', 'sedan', 'ferari', 'range rover', 'bugatti', 'jaguar', 'tesla']"
      ]
     },
     "execution_count": 69,
     "metadata": {},
     "output_type": "execute_result"
    }
   ],
   "source": [
    "carlist[:]"
   ]
  },
  {
   "cell_type": "code",
   "execution_count": 70,
   "id": "a465330d",
   "metadata": {},
   "outputs": [
    {
     "data": {
      "text/plain": [
       "[]"
      ]
     },
     "execution_count": 70,
     "metadata": {},
     "output_type": "execute_result"
    }
   ],
   "source": [
    "carlist[-1:-6]"
   ]
  },
  {
   "cell_type": "code",
   "execution_count": 71,
   "id": "2fd88487",
   "metadata": {},
   "outputs": [
    {
     "data": {
      "text/plain": [
       "['sedan', 'ferari', 'range rover', 'bugatti', 'jaguar']"
      ]
     },
     "execution_count": 71,
     "metadata": {},
     "output_type": "execute_result"
    }
   ],
   "source": [
    "carlist[-6:-1]"
   ]
  },
  {
   "cell_type": "code",
   "execution_count": 72,
   "id": "5d26dc81",
   "metadata": {},
   "outputs": [
    {
     "data": {
      "text/plain": [
       "['audi', 'sedan', 'ferari', 'range rover', 'bugatti', 'jaguar', 'tesla']"
      ]
     },
     "execution_count": 72,
     "metadata": {},
     "output_type": "execute_result"
    }
   ],
   "source": [
    "carlist[0:]"
   ]
  },
  {
   "cell_type": "code",
   "execution_count": 73,
   "id": "998266cb",
   "metadata": {},
   "outputs": [
    {
     "data": {
      "text/plain": [
       "['audi', 'sedan', 'ferari', 'range rover', 'bugatti', 'jaguar']"
      ]
     },
     "execution_count": 73,
     "metadata": {},
     "output_type": "execute_result"
    }
   ],
   "source": [
    "carlist[:6]"
   ]
  },
  {
   "cell_type": "code",
   "execution_count": 74,
   "id": "64baaf2e",
   "metadata": {},
   "outputs": [
    {
     "data": {
      "text/plain": [
       "'sedan'"
      ]
     },
     "execution_count": 74,
     "metadata": {},
     "output_type": "execute_result"
    }
   ],
   "source": [
    "carlist[-6]"
   ]
  },
  {
   "cell_type": "code",
   "execution_count": 75,
   "id": "3d2f3fe9",
   "metadata": {},
   "outputs": [
    {
     "data": {
      "text/plain": [
       "'tesla'"
      ]
     },
     "execution_count": 75,
     "metadata": {},
     "output_type": "execute_result"
    }
   ],
   "source": [
    "carlist[6]"
   ]
  },
  {
   "cell_type": "markdown",
   "id": "8a21c101",
   "metadata": {},
   "source": [
    "carlist[-7:]"
   ]
  },
  {
   "cell_type": "code",
   "execution_count": 77,
   "id": "6eeb835b",
   "metadata": {},
   "outputs": [
    {
     "data": {
      "text/plain": [
       "['audi', 'sedan', 'ferari', 'range rover', 'bugatti']"
      ]
     },
     "execution_count": 77,
     "metadata": {},
     "output_type": "execute_result"
    }
   ],
   "source": [
    "carlist[0:5]"
   ]
  },
  {
   "cell_type": "code",
   "execution_count": null,
   "id": "dc348df9",
   "metadata": {},
   "outputs": [],
   "source": [
    "list----- append, pop(for removing),insert(indus data),remove(data to remove),sort,reverse"
   ]
  },
  {
   "cell_type": "code",
   "execution_count": 78,
   "id": "97a54363",
   "metadata": {},
   "outputs": [],
   "source": [
    "planetlist=[\"mercury\",\"venus\",\"earth\"]"
   ]
  },
  {
   "cell_type": "code",
   "execution_count": 79,
   "id": "64e18878",
   "metadata": {},
   "outputs": [
    {
     "data": {
      "text/plain": [
       "['mercury', 'venus', 'earth']"
      ]
     },
     "execution_count": 79,
     "metadata": {},
     "output_type": "execute_result"
    }
   ],
   "source": [
    "planetlist"
   ]
  },
  {
   "cell_type": "code",
   "execution_count": 80,
   "id": "6932a001",
   "metadata": {},
   "outputs": [],
   "source": [
    "planetlist.append(\"mpars\")"
   ]
  },
  {
   "cell_type": "code",
   "execution_count": 81,
   "id": "0a29ce0c",
   "metadata": {},
   "outputs": [
    {
     "data": {
      "text/plain": [
       "['mercury', 'venus', 'earth', 'mars']"
      ]
     },
     "execution_count": 81,
     "metadata": {},
     "output_type": "execute_result"
    }
   ],
   "source": [
    "planetlist"
   ]
  },
  {
   "cell_type": "code",
   "execution_count": 82,
   "id": "3758386f",
   "metadata": {},
   "outputs": [],
   "source": [
    "planetlist.append(\"jupiter\")"
   ]
  },
  {
   "cell_type": "code",
   "execution_count": 84,
   "id": "ea85d519",
   "metadata": {},
   "outputs": [
    {
     "data": {
      "text/plain": [
       "['mercury', 'venus', 'earth', 'mars', 'jupiter']"
      ]
     },
     "execution_count": 84,
     "metadata": {},
     "output_type": "execute_result"
    }
   ],
   "source": [
    "planetlist"
   ]
  },
  {
   "cell_type": "code",
   "execution_count": 85,
   "id": "b222aabb",
   "metadata": {},
   "outputs": [],
   "source": [
    "planetlist.reverse()"
   ]
  },
  {
   "cell_type": "code",
   "execution_count": 86,
   "id": "7dffd008",
   "metadata": {},
   "outputs": [
    {
     "data": {
      "text/plain": [
       "['jupiter', 'mars', 'earth', 'venus', 'mercury']"
      ]
     },
     "execution_count": 86,
     "metadata": {},
     "output_type": "execute_result"
    }
   ],
   "source": [
    "planetlist"
   ]
  },
  {
   "cell_type": "code",
   "execution_count": 87,
   "id": "16163f65",
   "metadata": {},
   "outputs": [],
   "source": [
    "fruitlist=[\"banana\",\"mango\",\"grapes\",\"guva\"]"
   ]
  },
  {
   "cell_type": "code",
   "execution_count": 88,
   "id": "3090cac0",
   "metadata": {},
   "outputs": [
    {
     "data": {
      "text/plain": [
       "['banana', 'mango', 'grapes', 'guva']"
      ]
     },
     "execution_count": 88,
     "metadata": {},
     "output_type": "execute_result"
    }
   ],
   "source": [
    "fruitlist"
   ]
  },
  {
   "cell_type": "code",
   "execution_count": 90,
   "id": "12ee8331",
   "metadata": {},
   "outputs": [],
   "source": [
    "fruitlist.append(\"apple\")"
   ]
  },
  {
   "cell_type": "code",
   "execution_count": 91,
   "id": "fb8db2e9",
   "metadata": {},
   "outputs": [
    {
     "data": {
      "text/plain": [
       "['banana', 'mango', 'grapes', 'guva', 'apple']"
      ]
     },
     "execution_count": 91,
     "metadata": {},
     "output_type": "execute_result"
    }
   ],
   "source": [
    "fruitlist"
   ]
  },
  {
   "cell_type": "code",
   "execution_count": 95,
   "id": "c6cae895",
   "metadata": {},
   "outputs": [],
   "source": [
    "fruitlist.insert(2,\"watermelon\")"
   ]
  },
  {
   "cell_type": "code",
   "execution_count": 96,
   "id": "b23401f1",
   "metadata": {},
   "outputs": [
    {
     "data": {
      "text/plain": [
       "['banana', 'mango', 'watermelon', 'grapes', 'guva', 'apple']"
      ]
     },
     "execution_count": 96,
     "metadata": {},
     "output_type": "execute_result"
    }
   ],
   "source": [
    "fruitlist"
   ]
  },
  {
   "cell_type": "code",
   "execution_count": 97,
   "id": "82292662",
   "metadata": {},
   "outputs": [],
   "source": [
    "fruitlist.insert(1,\"lithc\")"
   ]
  },
  {
   "cell_type": "code",
   "execution_count": 98,
   "id": "da79cbf6",
   "metadata": {},
   "outputs": [
    {
     "data": {
      "text/plain": [
       "['banana', 'lithc', 'mango', 'watermelon', 'grapes', 'guva', 'apple']"
      ]
     },
     "execution_count": 98,
     "metadata": {},
     "output_type": "execute_result"
    }
   ],
   "source": [
    "fruitlist"
   ]
  },
  {
   "cell_type": "code",
   "execution_count": 99,
   "id": "e86e787f",
   "metadata": {},
   "outputs": [],
   "source": [
    "fruitlist.reverse()"
   ]
  },
  {
   "cell_type": "code",
   "execution_count": 100,
   "id": "37de4f62",
   "metadata": {},
   "outputs": [
    {
     "data": {
      "text/plain": [
       "['apple', 'guva', 'grapes', 'watermelon', 'mango', 'lithc', 'banana']"
      ]
     },
     "execution_count": 100,
     "metadata": {},
     "output_type": "execute_result"
    }
   ],
   "source": [
    "fruitlist"
   ]
  },
  {
   "cell_type": "code",
   "execution_count": 101,
   "id": "cc7a34ab",
   "metadata": {},
   "outputs": [
    {
     "data": {
      "text/plain": [
       "3"
      ]
     },
     "execution_count": 101,
     "metadata": {},
     "output_type": "execute_result"
    }
   ],
   "source": [
    "fruitlist.index(\"watermelon\")"
   ]
  },
  {
   "cell_type": "code",
   "execution_count": 102,
   "id": "4ab51b5c",
   "metadata": {},
   "outputs": [
    {
     "data": {
      "text/plain": [
       "5"
      ]
     },
     "execution_count": 102,
     "metadata": {},
     "output_type": "execute_result"
    }
   ],
   "source": [
    "fruitlist.index(\"lithc\")"
   ]
  },
  {
   "cell_type": "code",
   "execution_count": 103,
   "id": "87b63617",
   "metadata": {},
   "outputs": [
    {
     "data": {
      "text/plain": [
       "'banana'"
      ]
     },
     "execution_count": 103,
     "metadata": {},
     "output_type": "execute_result"
    }
   ],
   "source": [
    "fruitlist.pop()"
   ]
  },
  {
   "cell_type": "code",
   "execution_count": 104,
   "id": "f37baa9f",
   "metadata": {},
   "outputs": [
    {
     "data": {
      "text/plain": [
       "'lithc'"
      ]
     },
     "execution_count": 104,
     "metadata": {},
     "output_type": "execute_result"
    }
   ],
   "source": [
    "fruitlist.pop()"
   ]
  },
  {
   "cell_type": "code",
   "execution_count": 105,
   "id": "a502b96a",
   "metadata": {},
   "outputs": [
    {
     "data": {
      "text/plain": [
       "['apple', 'guva', 'grapes', 'watermelon', 'mango']"
      ]
     },
     "execution_count": 105,
     "metadata": {},
     "output_type": "execute_result"
    }
   ],
   "source": [
    "fruitlist"
   ]
  },
  {
   "cell_type": "code",
   "execution_count": 107,
   "id": "54db392d",
   "metadata": {},
   "outputs": [
    {
     "data": {
      "text/plain": [
       "'mango'"
      ]
     },
     "execution_count": 107,
     "metadata": {},
     "output_type": "execute_result"
    }
   ],
   "source": [
    "fruitlist.pop()"
   ]
  },
  {
   "cell_type": "code",
   "execution_count": 108,
   "id": "6d96bcd6",
   "metadata": {},
   "outputs": [
    {
     "data": {
      "text/plain": [
       "['apple', 'guva', 'grapes', 'watermelon']"
      ]
     },
     "execution_count": 108,
     "metadata": {},
     "output_type": "execute_result"
    }
   ],
   "source": [
    "fruitlist"
   ]
  },
  {
   "cell_type": "markdown",
   "id": "c6bce9a2",
   "metadata": {},
   "source": [
    "LENGTH"
   ]
  },
  {
   "cell_type": "code",
   "execution_count": 109,
   "id": "bf2b5403",
   "metadata": {},
   "outputs": [
    {
     "data": {
      "text/plain": [
       "6"
      ]
     },
     "execution_count": 109,
     "metadata": {},
     "output_type": "execute_result"
    }
   ],
   "source": [
    "len(\"vishnu\")"
   ]
  },
  {
   "cell_type": "code",
   "execution_count": 110,
   "id": "297f7342",
   "metadata": {},
   "outputs": [
    {
     "data": {
      "text/plain": [
       "5"
      ]
     },
     "execution_count": 110,
     "metadata": {},
     "output_type": "execute_result"
    }
   ],
   "source": [
    "len(\"india\")"
   ]
  },
  {
   "cell_type": "code",
   "execution_count": 111,
   "id": "687db332",
   "metadata": {},
   "outputs": [
    {
     "data": {
      "text/plain": [
       "7"
      ]
     },
     "execution_count": 111,
     "metadata": {},
     "output_type": "execute_result"
    }
   ],
   "source": [
    "len(\"carlist\")"
   ]
  },
  {
   "cell_type": "code",
   "execution_count": 112,
   "id": "1a039366",
   "metadata": {},
   "outputs": [
    {
     "data": {
      "text/plain": [
       "9"
      ]
     },
     "execution_count": 112,
     "metadata": {},
     "output_type": "execute_result"
    }
   ],
   "source": [
    "len(\"fruitlist\")"
   ]
  },
  {
   "cell_type": "code",
   "execution_count": 113,
   "id": "79e7a151",
   "metadata": {},
   "outputs": [
    {
     "data": {
      "text/plain": [
       "['apple', 'guva', 'grapes', 'watermelon']"
      ]
     },
     "execution_count": 113,
     "metadata": {},
     "output_type": "execute_result"
    }
   ],
   "source": [
    "fruitlist"
   ]
  },
  {
   "cell_type": "code",
   "execution_count": 114,
   "id": "1ba2f48d",
   "metadata": {},
   "outputs": [],
   "source": [
    "fruitlist.remove(\"guva\")"
   ]
  },
  {
   "cell_type": "code",
   "execution_count": 115,
   "id": "f8e45f77",
   "metadata": {},
   "outputs": [
    {
     "data": {
      "text/plain": [
       "['apple', 'grapes', 'watermelon']"
      ]
     },
     "execution_count": 115,
     "metadata": {},
     "output_type": "execute_result"
    }
   ],
   "source": [
    "fruitlist"
   ]
  },
  {
   "cell_type": "code",
   "execution_count": 116,
   "id": "418770fe",
   "metadata": {},
   "outputs": [
    {
     "data": {
      "text/plain": [
       "'grapes'"
      ]
     },
     "execution_count": 116,
     "metadata": {},
     "output_type": "execute_result"
    }
   ],
   "source": [
    "fruitlist.pop(1)"
   ]
  },
  {
   "cell_type": "code",
   "execution_count": 117,
   "id": "c9f88f28",
   "metadata": {},
   "outputs": [
    {
     "data": {
      "text/plain": [
       "['apple', 'watermelon']"
      ]
     },
     "execution_count": 117,
     "metadata": {},
     "output_type": "execute_result"
    }
   ],
   "source": [
    "fruitlist"
   ]
  },
  {
   "cell_type": "code",
   "execution_count": 118,
   "id": "a02c79fa",
   "metadata": {},
   "outputs": [],
   "source": [
    "fruitlist.clear()"
   ]
  },
  {
   "cell_type": "code",
   "execution_count": 119,
   "id": "13a16cad",
   "metadata": {},
   "outputs": [
    {
     "data": {
      "text/plain": [
       "[]"
      ]
     },
     "execution_count": 119,
     "metadata": {},
     "output_type": "execute_result"
    }
   ],
   "source": [
    "fruitlist"
   ]
  },
  {
   "cell_type": "code",
   "execution_count": 121,
   "id": "9519b6e3",
   "metadata": {},
   "outputs": [],
   "source": [
    "fruitlist.append(\"kiwi\")"
   ]
  },
  {
   "cell_type": "code",
   "execution_count": 122,
   "id": "97eb10e9",
   "metadata": {},
   "outputs": [],
   "source": [
    "fruitlist.append(\"watermelon\")"
   ]
  },
  {
   "cell_type": "code",
   "execution_count": 123,
   "id": "e9c4348e",
   "metadata": {},
   "outputs": [],
   "source": [
    "fruitlist.append(\"guva\")"
   ]
  },
  {
   "cell_type": "code",
   "execution_count": 124,
   "id": "4e599d2d",
   "metadata": {},
   "outputs": [
    {
     "data": {
      "text/plain": [
       "['kiwi', 'watermelon', 'guva']"
      ]
     },
     "execution_count": 124,
     "metadata": {},
     "output_type": "execute_result"
    }
   ],
   "source": [
    "fruitlist"
   ]
  },
  {
   "cell_type": "code",
   "execution_count": 125,
   "id": "55058dd4",
   "metadata": {},
   "outputs": [],
   "source": [
    "del fruitlist"
   ]
  },
  {
   "cell_type": "code",
   "execution_count": 126,
   "id": "3631dfb6",
   "metadata": {},
   "outputs": [
    {
     "ename": "NameError",
     "evalue": "name 'fruitlist' is not defined",
     "output_type": "error",
     "traceback": [
      "\u001b[1;31m---------------------------------------------------------------------------\u001b[0m",
      "\u001b[1;31mNameError\u001b[0m                                 Traceback (most recent call last)",
      "Cell \u001b[1;32mIn[126], line 1\u001b[0m\n\u001b[1;32m----> 1\u001b[0m \u001b[43mfruitlist\u001b[49m\n",
      "\u001b[1;31mNameError\u001b[0m: name 'fruitlist' is not defined"
     ]
    }
   ],
   "source": [
    "fruitlist"
   ]
  },
  {
   "cell_type": "code",
   "execution_count": 127,
   "id": "69b5de65",
   "metadata": {},
   "outputs": [],
   "source": [
    "planetlist=[\"murcury\",\"venus\",\"earth\",]"
   ]
  },
  {
   "cell_type": "code",
   "execution_count": 128,
   "id": "20109397",
   "metadata": {},
   "outputs": [
    {
     "data": {
      "text/plain": [
       "['murcury', 'venus', 'earth']"
      ]
     },
     "execution_count": 128,
     "metadata": {},
     "output_type": "execute_result"
    }
   ],
   "source": [
    "planetlist"
   ]
  },
  {
   "cell_type": "code",
   "execution_count": 129,
   "id": "f82b731f",
   "metadata": {},
   "outputs": [
    {
     "data": {
      "text/plain": [
       "'earth'"
      ]
     },
     "execution_count": 129,
     "metadata": {},
     "output_type": "execute_result"
    }
   ],
   "source": [
    "planetlist[2]"
   ]
  },
  {
   "cell_type": "code",
   "execution_count": 130,
   "id": "44e079a1",
   "metadata": {},
   "outputs": [],
   "source": [
    "planetlist[1]=\"pluto\""
   ]
  },
  {
   "cell_type": "code",
   "execution_count": 131,
   "id": "4f369116",
   "metadata": {},
   "outputs": [
    {
     "data": {
      "text/plain": [
       "['murcury', 'pluto', 'earth']"
      ]
     },
     "execution_count": 131,
     "metadata": {},
     "output_type": "execute_result"
    }
   ],
   "source": [
    "planetlist"
   ]
  },
  {
   "cell_type": "markdown",
   "id": "7030ba37",
   "metadata": {},
   "source": [
    "so it is mutable"
   ]
  },
  {
   "cell_type": "code",
   "execution_count": 132,
   "id": "7673aca7",
   "metadata": {},
   "outputs": [],
   "source": [
    "intlist=[12,13,14,15]"
   ]
  },
  {
   "cell_type": "code",
   "execution_count": 133,
   "id": "ed4d17e5",
   "metadata": {},
   "outputs": [
    {
     "data": {
      "text/plain": [
       "14"
      ]
     },
     "execution_count": 133,
     "metadata": {},
     "output_type": "execute_result"
    }
   ],
   "source": [
    "intlist[2]"
   ]
  },
  {
   "cell_type": "code",
   "execution_count": 134,
   "id": "70765670",
   "metadata": {},
   "outputs": [],
   "source": [
    "intlist[3]=40"
   ]
  },
  {
   "cell_type": "code",
   "execution_count": 135,
   "id": "dcae82c0",
   "metadata": {},
   "outputs": [
    {
     "data": {
      "text/plain": [
       "[12, 13, 14, 40]"
      ]
     },
     "execution_count": 135,
     "metadata": {},
     "output_type": "execute_result"
    }
   ],
   "source": [
    "intlist"
   ]
  },
  {
   "cell_type": "code",
   "execution_count": 137,
   "id": "f674e9f3",
   "metadata": {},
   "outputs": [
    {
     "data": {
      "text/plain": [
       "['murcury', 'pluto', 'earth']"
      ]
     },
     "execution_count": 137,
     "metadata": {},
     "output_type": "execute_result"
    }
   ],
   "source": [
    "planetlist"
   ]
  },
  {
   "cell_type": "code",
   "execution_count": 139,
   "id": "97e50368",
   "metadata": {},
   "outputs": [],
   "source": [
    "planetlist.append(\"saturn\")"
   ]
  },
  {
   "cell_type": "code",
   "execution_count": 140,
   "id": "1ef6c212",
   "metadata": {},
   "outputs": [],
   "source": [
    "planetlist.append(\"mars\")"
   ]
  },
  {
   "cell_type": "code",
   "execution_count": 141,
   "id": "70332a47",
   "metadata": {},
   "outputs": [
    {
     "data": {
      "text/plain": [
       "['murcury', 'pluto', 'earth', 'saturn', 'mars']"
      ]
     },
     "execution_count": 141,
     "metadata": {},
     "output_type": "execute_result"
    }
   ],
   "source": [
    "planetlist"
   ]
  },
  {
   "cell_type": "code",
   "execution_count": 142,
   "id": "a668f16a",
   "metadata": {},
   "outputs": [],
   "source": [
    "planetlist.extend([\"saturn\",\"jupitor\",\"uranus\"])"
   ]
  },
  {
   "cell_type": "code",
   "execution_count": 143,
   "id": "88d29ffd",
   "metadata": {},
   "outputs": [
    {
     "data": {
      "text/plain": [
       "['murcury', 'pluto', 'earth', 'saturn', 'mars', 'saturn', 'jupitor', 'uranus']"
      ]
     },
     "execution_count": 143,
     "metadata": {},
     "output_type": "execute_result"
    }
   ],
   "source": [
    "planetlist"
   ]
  },
  {
   "cell_type": "code",
   "execution_count": 144,
   "id": "318bc2f1",
   "metadata": {},
   "outputs": [
    {
     "data": {
      "text/plain": [
       "8"
      ]
     },
     "execution_count": 144,
     "metadata": {},
     "output_type": "execute_result"
    }
   ],
   "source": [
    "len(planetlist)"
   ]
  },
  {
   "cell_type": "code",
   "execution_count": 145,
   "id": "bf84b278",
   "metadata": {},
   "outputs": [],
   "source": [
    "planetlist.clear()"
   ]
  },
  {
   "cell_type": "code",
   "execution_count": 146,
   "id": "e2b8cd42",
   "metadata": {},
   "outputs": [
    {
     "data": {
      "text/plain": [
       "[]"
      ]
     },
     "execution_count": 146,
     "metadata": {},
     "output_type": "execute_result"
    }
   ],
   "source": [
    "planetlist"
   ]
  },
  {
   "cell_type": "code",
   "execution_count": 147,
   "id": "ce8b1409",
   "metadata": {},
   "outputs": [
    {
     "ename": "SyntaxError",
     "evalue": "invalid syntax (1761544123.py, line 1)",
     "output_type": "error",
     "traceback": [
      "\u001b[1;36m  Cell \u001b[1;32mIn[147], line 1\u001b[1;36m\u001b[0m\n\u001b[1;33m    del.planetlist\u001b[0m\n\u001b[1;37m       ^\u001b[0m\n\u001b[1;31mSyntaxError\u001b[0m\u001b[1;31m:\u001b[0m invalid syntax\n"
     ]
    }
   ],
   "source": [
    "del.planetlist"
   ]
  },
  {
   "cell_type": "markdown",
   "id": "f67c1a9a",
   "metadata": {},
   "source": [
    "TUPLES - are order collection of item,they are also index but they are immutable"
   ]
  },
  {
   "cell_type": "code",
   "execution_count": 1,
   "id": "f336a3ac",
   "metadata": {},
   "outputs": [],
   "source": [
    "t1=(0,1,2,3,4,5)"
   ]
  },
  {
   "cell_type": "code",
   "execution_count": 2,
   "id": "4d58582e",
   "metadata": {},
   "outputs": [],
   "source": [
    "t2=(12,13,23,45,56,55)"
   ]
  },
  {
   "cell_type": "code",
   "execution_count": 3,
   "id": "c0a1d85e",
   "metadata": {},
   "outputs": [
    {
     "data": {
      "text/plain": [
       "(0, 1, 2, 3, 4, 5)"
      ]
     },
     "execution_count": 3,
     "metadata": {},
     "output_type": "execute_result"
    }
   ],
   "source": [
    "t1"
   ]
  },
  {
   "cell_type": "code",
   "execution_count": 4,
   "id": "872176df",
   "metadata": {},
   "outputs": [
    {
     "data": {
      "text/plain": [
       "(12, 13, 23, 45, 56, 55)"
      ]
     },
     "execution_count": 4,
     "metadata": {},
     "output_type": "execute_result"
    }
   ],
   "source": [
    "t2"
   ]
  },
  {
   "cell_type": "code",
   "execution_count": 39,
   "id": "a224102f",
   "metadata": {},
   "outputs": [
    {
     "ename": "TypeError",
     "evalue": "'tuple' object does not support item assignment",
     "output_type": "error",
     "traceback": [
      "\u001b[1;31m---------------------------------------------------------------------------\u001b[0m",
      "\u001b[1;31mTypeError\u001b[0m                                 Traceback (most recent call last)",
      "Cell \u001b[1;32mIn[39], line 1\u001b[0m\n\u001b[1;32m----> 1\u001b[0m t2[\u001b[38;5;241m2\u001b[39m]\u001b[38;5;241m=\u001b[39m\u001b[38;5;241m22\u001b[39m\n",
      "\u001b[1;31mTypeError\u001b[0m: 'tuple' object does not support item assignment"
     ]
    }
   ],
   "source": [
    "t2[2]=22"
   ]
  },
  {
   "cell_type": "code",
   "execution_count": 40,
   "id": "1ee1cdf8",
   "metadata": {},
   "outputs": [
    {
     "data": {
      "text/plain": [
       "1"
      ]
     },
     "execution_count": 40,
     "metadata": {},
     "output_type": "execute_result"
    }
   ],
   "source": [
    "t1[1]"
   ]
  },
  {
   "cell_type": "code",
   "execution_count": 38,
   "id": "e0ad28b7",
   "metadata": {},
   "outputs": [
    {
     "data": {
      "text/plain": [
       "12"
      ]
     },
     "execution_count": 38,
     "metadata": {},
     "output_type": "execute_result"
    }
   ],
   "source": [
    "t2[0]"
   ]
  },
  {
   "cell_type": "markdown",
   "id": "da20651b",
   "metadata": {},
   "source": [
    "DICTIONARY-are basically key-value  structure are mutable"
   ]
  },
  {
   "cell_type": "markdown",
   "id": "48fb9bfa",
   "metadata": {},
   "source": [
    "d={key:value,key:value}"
   ]
  },
  {
   "cell_type": "code",
   "execution_count": 21,
   "id": "97a666b0",
   "metadata": {},
   "outputs": [],
   "source": [
    "d1={'id':101,'name':'john','grade':'nine'}"
   ]
  },
  {
   "cell_type": "code",
   "execution_count": 22,
   "id": "e51de326",
   "metadata": {},
   "outputs": [
    {
     "data": {
      "text/plain": [
       "{'id': 101, 'name': 'john', 'grade': 'nine'}"
      ]
     },
     "execution_count": 22,
     "metadata": {},
     "output_type": "execute_result"
    }
   ],
   "source": [
    "d1"
   ]
  },
  {
   "cell_type": "code",
   "execution_count": 23,
   "id": "c8ebfc82",
   "metadata": {},
   "outputs": [
    {
     "data": {
      "text/plain": [
       "dict_keys(['id', 'name', 'grade'])"
      ]
     },
     "execution_count": 23,
     "metadata": {},
     "output_type": "execute_result"
    }
   ],
   "source": [
    "d1.keys()"
   ]
  },
  {
   "cell_type": "code",
   "execution_count": 24,
   "id": "560c770b",
   "metadata": {},
   "outputs": [
    {
     "data": {
      "text/plain": [
       "dict_values([101, 'john', 'nine'])"
      ]
     },
     "execution_count": 24,
     "metadata": {},
     "output_type": "execute_result"
    }
   ],
   "source": [
    "d1.values()"
   ]
  },
  {
   "cell_type": "code",
   "execution_count": 25,
   "id": "ceb95c3b",
   "metadata": {},
   "outputs": [
    {
     "data": {
      "text/plain": [
       "dict_items([('id', 101), ('name', 'john'), ('grade', 'nine')])"
      ]
     },
     "execution_count": 25,
     "metadata": {},
     "output_type": "execute_result"
    }
   ],
   "source": [
    "d1.items()"
   ]
  },
  {
   "cell_type": "code",
   "execution_count": 26,
   "id": "ffe7cad6",
   "metadata": {},
   "outputs": [
    {
     "data": {
      "text/plain": [
       "101"
      ]
     },
     "execution_count": 26,
     "metadata": {},
     "output_type": "execute_result"
    }
   ],
   "source": [
    "d1['id']"
   ]
  },
  {
   "cell_type": "code",
   "execution_count": 27,
   "id": "d97791ce",
   "metadata": {},
   "outputs": [
    {
     "data": {
      "text/plain": [
       "'john'"
      ]
     },
     "execution_count": 27,
     "metadata": {},
     "output_type": "execute_result"
    }
   ],
   "source": [
    "d1['name']"
   ]
  },
  {
   "cell_type": "code",
   "execution_count": 28,
   "id": "fa1e3666",
   "metadata": {},
   "outputs": [
    {
     "data": {
      "text/plain": [
       "'nine'"
      ]
     },
     "execution_count": 28,
     "metadata": {},
     "output_type": "execute_result"
    }
   ],
   "source": [
    "d1['grade']"
   ]
  },
  {
   "cell_type": "code",
   "execution_count": 29,
   "id": "1ad3e6ef",
   "metadata": {},
   "outputs": [],
   "source": [
    "d1.update({'age':12})"
   ]
  },
  {
   "cell_type": "code",
   "execution_count": 30,
   "id": "9ada1912",
   "metadata": {},
   "outputs": [
    {
     "data": {
      "text/plain": [
       "{'id': 101, 'name': 'john', 'grade': 'nine', 'age': 12}"
      ]
     },
     "execution_count": 30,
     "metadata": {},
     "output_type": "execute_result"
    }
   ],
   "source": [
    "d1"
   ]
  },
  {
   "cell_type": "code",
   "execution_count": 32,
   "id": "3a9e885e",
   "metadata": {},
   "outputs": [
    {
     "data": {
      "text/plain": [
       "dict_keys(['id', 'name', 'grade', 'age'])"
      ]
     },
     "execution_count": 32,
     "metadata": {},
     "output_type": "execute_result"
    }
   ],
   "source": [
    "d1.keys()"
   ]
  },
  {
   "cell_type": "code",
   "execution_count": 33,
   "id": "f9f820df",
   "metadata": {},
   "outputs": [
    {
     "data": {
      "text/plain": [
       "dict_values([101, 'john', 'nine', 12])"
      ]
     },
     "execution_count": 33,
     "metadata": {},
     "output_type": "execute_result"
    }
   ],
   "source": [
    "d1.values()"
   ]
  },
  {
   "cell_type": "code",
   "execution_count": 34,
   "id": "14f47351",
   "metadata": {},
   "outputs": [
    {
     "data": {
      "text/plain": [
       "dict_items([('id', 101), ('name', 'john'), ('grade', 'nine'), ('age', 12)])"
      ]
     },
     "execution_count": 34,
     "metadata": {},
     "output_type": "execute_result"
    }
   ],
   "source": [
    "d1.items()"
   ]
  },
  {
   "cell_type": "code",
   "execution_count": 35,
   "id": "b3dcb8e9",
   "metadata": {},
   "outputs": [
    {
     "data": {
      "text/plain": [
       "12"
      ]
     },
     "execution_count": 35,
     "metadata": {},
     "output_type": "execute_result"
    }
   ],
   "source": [
    "d1['age']"
   ]
  },
  {
   "cell_type": "code",
   "execution_count": 36,
   "id": "b33bf05e",
   "metadata": {},
   "outputs": [],
   "source": [
    "d1['age']=14"
   ]
  },
  {
   "cell_type": "code",
   "execution_count": 37,
   "id": "7b9adb25",
   "metadata": {},
   "outputs": [
    {
     "data": {
      "text/plain": [
       "{'id': 101, 'name': 'john', 'grade': 'nine', 'age': 14}"
      ]
     },
     "execution_count": 37,
     "metadata": {},
     "output_type": "execute_result"
    }
   ],
   "source": [
    "d1"
   ]
  },
  {
   "cell_type": "code",
   "execution_count": 41,
   "id": "40c15d69",
   "metadata": {},
   "outputs": [
    {
     "data": {
      "text/plain": [
       "101"
      ]
     },
     "execution_count": 41,
     "metadata": {},
     "output_type": "execute_result"
    }
   ],
   "source": [
    "d1.pop('id')"
   ]
  },
  {
   "cell_type": "code",
   "execution_count": 42,
   "id": "36911ce5",
   "metadata": {},
   "outputs": [
    {
     "data": {
      "text/plain": [
       "{'name': 'john', 'grade': 'nine', 'age': 14}"
      ]
     },
     "execution_count": 42,
     "metadata": {},
     "output_type": "execute_result"
    }
   ],
   "source": [
    "d1"
   ]
  },
  {
   "cell_type": "code",
   "execution_count": 45,
   "id": "93bfacd8",
   "metadata": {},
   "outputs": [
    {
     "data": {
      "text/plain": [
       "14"
      ]
     },
     "execution_count": 45,
     "metadata": {},
     "output_type": "execute_result"
    }
   ],
   "source": [
    "d1.pop('age')"
   ]
  },
  {
   "cell_type": "code",
   "execution_count": 46,
   "id": "727dd6df",
   "metadata": {},
   "outputs": [
    {
     "data": {
      "text/plain": [
       "{'name': 'john', 'grade': 'nine'}"
      ]
     },
     "execution_count": 46,
     "metadata": {},
     "output_type": "execute_result"
    }
   ],
   "source": [
    "d1"
   ]
  },
  {
   "cell_type": "code",
   "execution_count": 47,
   "id": "db342dfc",
   "metadata": {},
   "outputs": [],
   "source": [
    "d1.update({'age':22,'id':102})"
   ]
  },
  {
   "cell_type": "code",
   "execution_count": 61,
   "id": "e5922dae",
   "metadata": {},
   "outputs": [
    {
     "ename": "NameError",
     "evalue": "name 'd1' is not defined",
     "output_type": "error",
     "traceback": [
      "\u001b[1;31m---------------------------------------------------------------------------\u001b[0m",
      "\u001b[1;31mNameError\u001b[0m                                 Traceback (most recent call last)",
      "Cell \u001b[1;32mIn[61], line 1\u001b[0m\n\u001b[1;32m----> 1\u001b[0m \u001b[43md1\u001b[49m\n",
      "\u001b[1;31mNameError\u001b[0m: name 'd1' is not defined"
     ]
    }
   ],
   "source": [
    "d1"
   ]
  },
  {
   "cell_type": "code",
   "execution_count": null,
   "id": "db5145da",
   "metadata": {},
   "outputs": [],
   "source": []
  },
  {
   "cell_type": "code",
   "execution_count": null,
   "id": "e7a7c39e",
   "metadata": {},
   "outputs": [],
   "source": []
  },
  {
   "cell_type": "code",
   "execution_count": null,
   "id": "876385f6",
   "metadata": {},
   "outputs": [],
   "source": []
  },
  {
   "cell_type": "code",
   "execution_count": 49,
   "id": "83d4dab5",
   "metadata": {},
   "outputs": [],
   "source": [
    "d2={'id':[1,2,3,4],'name':['john','kiwi','shan','teen'],'age':[45,24,55,65]}"
   ]
  },
  {
   "cell_type": "code",
   "execution_count": 50,
   "id": "8b02081f",
   "metadata": {},
   "outputs": [
    {
     "data": {
      "text/plain": [
       "{'id': [1, 2, 3, 4],\n",
       " 'name': ['john', 'kiwi', 'shan', 'teen'],\n",
       " 'age': [45, 24, 55, 65]}"
      ]
     },
     "execution_count": 50,
     "metadata": {},
     "output_type": "execute_result"
    }
   ],
   "source": [
    "d2"
   ]
  },
  {
   "cell_type": "code",
   "execution_count": 51,
   "id": "0f0250f2",
   "metadata": {},
   "outputs": [
    {
     "data": {
      "text/plain": [
       "dict_keys(['id', 'name', 'age'])"
      ]
     },
     "execution_count": 51,
     "metadata": {},
     "output_type": "execute_result"
    }
   ],
   "source": [
    "d2.keys()"
   ]
  },
  {
   "cell_type": "code",
   "execution_count": 53,
   "id": "174ceb22",
   "metadata": {},
   "outputs": [
    {
     "data": {
      "text/plain": [
       "dict_values([[1, 2, 3, 4], ['john', 'kiwi', 'shan', 'teen'], [45, 24, 55, 65]])"
      ]
     },
     "execution_count": 53,
     "metadata": {},
     "output_type": "execute_result"
    }
   ],
   "source": [
    "d2.values()"
   ]
  },
  {
   "cell_type": "code",
   "execution_count": 54,
   "id": "4a89f192",
   "metadata": {},
   "outputs": [
    {
     "data": {
      "text/plain": [
       "dict_items([('id', [1, 2, 3, 4]), ('name', ['john', 'kiwi', 'shan', 'teen']), ('age', [45, 24, 55, 65])])"
      ]
     },
     "execution_count": 54,
     "metadata": {},
     "output_type": "execute_result"
    }
   ],
   "source": [
    "d2.items()"
   ]
  },
  {
   "cell_type": "code",
   "execution_count": 62,
   "id": "9dadb7dc",
   "metadata": {},
   "outputs": [
    {
     "data": {
      "text/plain": [
       "[1, 2, 3, 4]"
      ]
     },
     "execution_count": 62,
     "metadata": {},
     "output_type": "execute_result"
    }
   ],
   "source": [
    "d2['id']"
   ]
  },
  {
   "cell_type": "code",
   "execution_count": 63,
   "id": "12c3d624",
   "metadata": {},
   "outputs": [
    {
     "data": {
      "text/plain": [
       "['john', 'kiwi', 'shan', 'teen']"
      ]
     },
     "execution_count": 63,
     "metadata": {},
     "output_type": "execute_result"
    }
   ],
   "source": [
    "d2['name']"
   ]
  },
  {
   "cell_type": "code",
   "execution_count": 64,
   "id": "49ed7f2c",
   "metadata": {},
   "outputs": [
    {
     "data": {
      "text/plain": [
       "[45, 24, 55, 65]"
      ]
     },
     "execution_count": 64,
     "metadata": {},
     "output_type": "execute_result"
    }
   ],
   "source": [
    "d2['age']"
   ]
  },
  {
   "cell_type": "code",
   "execution_count": 65,
   "id": "d6fa6b4e",
   "metadata": {},
   "outputs": [
    {
     "data": {
      "text/plain": [
       "3"
      ]
     },
     "execution_count": 65,
     "metadata": {},
     "output_type": "execute_result"
    }
   ],
   "source": [
    "d2['id'][2]"
   ]
  },
  {
   "cell_type": "code",
   "execution_count": 66,
   "id": "68b37e70",
   "metadata": {},
   "outputs": [
    {
     "data": {
      "text/plain": [
       "'kiwi'"
      ]
     },
     "execution_count": 66,
     "metadata": {},
     "output_type": "execute_result"
    }
   ],
   "source": [
    "d2['name'][1]"
   ]
  },
  {
   "cell_type": "code",
   "execution_count": 67,
   "id": "d3cd9a29",
   "metadata": {},
   "outputs": [
    {
     "data": {
      "text/plain": [
       "65"
      ]
     },
     "execution_count": 67,
     "metadata": {},
     "output_type": "execute_result"
    }
   ],
   "source": [
    "d2['age'][3]"
   ]
  },
  {
   "cell_type": "code",
   "execution_count": 68,
   "id": "6a1ccd1c",
   "metadata": {},
   "outputs": [
    {
     "data": {
      "text/plain": [
       "[45, 24, 55, 65]"
      ]
     },
     "execution_count": 68,
     "metadata": {},
     "output_type": "execute_result"
    }
   ],
   "source": [
    "d2.pop('age')"
   ]
  },
  {
   "cell_type": "code",
   "execution_count": 69,
   "id": "f050582d",
   "metadata": {},
   "outputs": [
    {
     "data": {
      "text/plain": [
       "{'id': [1, 2, 3, 4], 'name': ['john', 'kiwi', 'shan', 'teen']}"
      ]
     },
     "execution_count": 69,
     "metadata": {},
     "output_type": "execute_result"
    }
   ],
   "source": [
    "d2"
   ]
  },
  {
   "cell_type": "code",
   "execution_count": 70,
   "id": "0eada1e6",
   "metadata": {},
   "outputs": [],
   "source": [
    "d2.clear()"
   ]
  },
  {
   "cell_type": "code",
   "execution_count": 71,
   "id": "4640d941",
   "metadata": {},
   "outputs": [
    {
     "data": {
      "text/plain": [
       "{}"
      ]
     },
     "execution_count": 71,
     "metadata": {},
     "output_type": "execute_result"
    }
   ],
   "source": [
    "d2"
   ]
  },
  {
   "cell_type": "code",
   "execution_count": 72,
   "id": "c50217f2",
   "metadata": {},
   "outputs": [
    {
     "ename": "SyntaxError",
     "evalue": "invalid syntax (3382797433.py, line 1)",
     "output_type": "error",
     "traceback": [
      "\u001b[1;36m  Cell \u001b[1;32mIn[72], line 1\u001b[1;36m\u001b[0m\n\u001b[1;33m    del.d2\u001b[0m\n\u001b[1;37m       ^\u001b[0m\n\u001b[1;31mSyntaxError\u001b[0m\u001b[1;31m:\u001b[0m invalid syntax\n"
     ]
    }
   ],
   "source": [
    "del.d2"
   ]
  },
  {
   "cell_type": "markdown",
   "id": "bf9599f9",
   "metadata": {},
   "source": [
    "SETS-are basically unordered collection of item\n",
    "sets are not indexed\n",
    "sets are immutable\n",
    "sets does not allow dublicate values"
   ]
  },
  {
   "cell_type": "code",
   "execution_count": 73,
   "id": "c0ec2163",
   "metadata": {},
   "outputs": [],
   "source": [
    "a={12,35,45,35,65,35,12,43,56,43,29,12}"
   ]
  },
  {
   "cell_type": "code",
   "execution_count": 74,
   "id": "0032ae1b",
   "metadata": {},
   "outputs": [
    {
     "data": {
      "text/plain": [
       "{12, 29, 35, 43, 45, 56, 65}"
      ]
     },
     "execution_count": 74,
     "metadata": {},
     "output_type": "execute_result"
    }
   ],
   "source": [
    "a"
   ]
  },
  {
   "cell_type": "code",
   "execution_count": 75,
   "id": "c5747e00",
   "metadata": {},
   "outputs": [
    {
     "ename": "TypeError",
     "evalue": "'set' object is not subscriptable",
     "output_type": "error",
     "traceback": [
      "\u001b[1;31m---------------------------------------------------------------------------\u001b[0m",
      "\u001b[1;31mTypeError\u001b[0m                                 Traceback (most recent call last)",
      "Cell \u001b[1;32mIn[75], line 1\u001b[0m\n\u001b[1;32m----> 1\u001b[0m \u001b[43ma\u001b[49m\u001b[43m[\u001b[49m\u001b[38;5;241;43m0\u001b[39;49m\u001b[43m]\u001b[49m\n",
      "\u001b[1;31mTypeError\u001b[0m: 'set' object is not subscriptable"
     ]
    }
   ],
   "source": [
    "a[0]"
   ]
  },
  {
   "cell_type": "code",
   "execution_count": 76,
   "id": "018bd88b",
   "metadata": {},
   "outputs": [
    {
     "ename": "TypeError",
     "evalue": "'set' object is not subscriptable",
     "output_type": "error",
     "traceback": [
      "\u001b[1;31m---------------------------------------------------------------------------\u001b[0m",
      "\u001b[1;31mTypeError\u001b[0m                                 Traceback (most recent call last)",
      "Cell \u001b[1;32mIn[76], line 1\u001b[0m\n\u001b[1;32m----> 1\u001b[0m \u001b[43ma\u001b[49m\u001b[43m[\u001b[49m\u001b[38;5;241;43m2\u001b[39;49m\u001b[43m]\u001b[49m\n",
      "\u001b[1;31mTypeError\u001b[0m: 'set' object is not subscriptable"
     ]
    }
   ],
   "source": [
    "a[2]"
   ]
  },
  {
   "cell_type": "code",
   "execution_count": 77,
   "id": "55dc2b39",
   "metadata": {},
   "outputs": [],
   "source": [
    "b={100,200,300,400,100,500,200}"
   ]
  },
  {
   "cell_type": "code",
   "execution_count": 78,
   "id": "ff93fcce",
   "metadata": {},
   "outputs": [
    {
     "data": {
      "text/plain": [
       "{100, 200, 300, 400, 500}"
      ]
     },
     "execution_count": 78,
     "metadata": {},
     "output_type": "execute_result"
    }
   ],
   "source": [
    "b"
   ]
  },
  {
   "cell_type": "code",
   "execution_count": 79,
   "id": "e117f644",
   "metadata": {},
   "outputs": [
    {
     "ename": "TypeError",
     "evalue": "'set' object is not subscriptable",
     "output_type": "error",
     "traceback": [
      "\u001b[1;31m---------------------------------------------------------------------------\u001b[0m",
      "\u001b[1;31mTypeError\u001b[0m                                 Traceback (most recent call last)",
      "Cell \u001b[1;32mIn[79], line 1\u001b[0m\n\u001b[1;32m----> 1\u001b[0m \u001b[43mb\u001b[49m\u001b[43m[\u001b[49m\u001b[38;5;241;43m4\u001b[39;49m\u001b[43m]\u001b[49m\n",
      "\u001b[1;31mTypeError\u001b[0m: 'set' object is not subscriptable"
     ]
    }
   ],
   "source": [
    "b[4]"
   ]
  },
  {
   "cell_type": "code",
   "execution_count": 80,
   "id": "b33b7791",
   "metadata": {},
   "outputs": [],
   "source": [
    "b=set([100,200,300,400,200,100])"
   ]
  },
  {
   "cell_type": "code",
   "execution_count": 81,
   "id": "5ba968e3",
   "metadata": {},
   "outputs": [
    {
     "data": {
      "text/plain": [
       "{100, 200, 300, 400}"
      ]
     },
     "execution_count": 81,
     "metadata": {},
     "output_type": "execute_result"
    }
   ],
   "source": [
    "b"
   ]
  },
  {
   "cell_type": "code",
   "execution_count": 82,
   "id": "b3f6b3f7",
   "metadata": {},
   "outputs": [],
   "source": [
    "list1=[100,100,200,300,400,200]"
   ]
  },
  {
   "cell_type": "code",
   "execution_count": 83,
   "id": "aeef4cb9",
   "metadata": {},
   "outputs": [
    {
     "data": {
      "text/plain": [
       "[100, 100, 200, 300, 400, 200]"
      ]
     },
     "execution_count": 83,
     "metadata": {},
     "output_type": "execute_result"
    }
   ],
   "source": [
    "list1"
   ]
  },
  {
   "cell_type": "code",
   "execution_count": 84,
   "id": "f3d3a8c6",
   "metadata": {},
   "outputs": [
    {
     "data": {
      "text/plain": [
       "{12, 29, 35, 43, 45, 56, 65}"
      ]
     },
     "execution_count": 84,
     "metadata": {},
     "output_type": "execute_result"
    }
   ],
   "source": [
    "a"
   ]
  },
  {
   "cell_type": "code",
   "execution_count": 85,
   "id": "4c0c03ce",
   "metadata": {},
   "outputs": [],
   "source": [
    "a.add(99)"
   ]
  },
  {
   "cell_type": "code",
   "execution_count": 86,
   "id": "192aef2b",
   "metadata": {},
   "outputs": [
    {
     "data": {
      "text/plain": [
       "{12, 29, 35, 43, 45, 56, 65, 99}"
      ]
     },
     "execution_count": 86,
     "metadata": {},
     "output_type": "execute_result"
    }
   ],
   "source": [
    "a"
   ]
  },
  {
   "cell_type": "code",
   "execution_count": null,
   "id": "53b67739",
   "metadata": {},
   "outputs": [],
   "source": []
  },
  {
   "cell_type": "code",
   "execution_count": null,
   "id": "b71d085e",
   "metadata": {},
   "outputs": [],
   "source": []
  },
  {
   "cell_type": "code",
   "execution_count": null,
   "id": "c4eb2d45",
   "metadata": {},
   "outputs": [],
   "source": []
  },
  {
   "cell_type": "code",
   "execution_count": null,
   "id": "101d1970",
   "metadata": {},
   "outputs": [],
   "source": []
  },
  {
   "cell_type": "code",
   "execution_count": null,
   "id": "26d2efb2",
   "metadata": {},
   "outputs": [],
   "source": []
  },
  {
   "cell_type": "code",
   "execution_count": null,
   "id": "5b7f25b4",
   "metadata": {},
   "outputs": [],
   "source": []
  },
  {
   "cell_type": "code",
   "execution_count": null,
   "id": "7eed839a",
   "metadata": {},
   "outputs": [],
   "source": []
  },
  {
   "cell_type": "code",
   "execution_count": null,
   "id": "71e70884",
   "metadata": {},
   "outputs": [],
   "source": []
  },
  {
   "cell_type": "code",
   "execution_count": null,
   "id": "90524603",
   "metadata": {},
   "outputs": [],
   "source": []
  },
  {
   "cell_type": "code",
   "execution_count": null,
   "id": "b72caeb3",
   "metadata": {},
   "outputs": [],
   "source": []
  },
  {
   "cell_type": "code",
   "execution_count": null,
   "id": "917bc1e2",
   "metadata": {},
   "outputs": [],
   "source": []
  },
  {
   "cell_type": "code",
   "execution_count": null,
   "id": "cb227ef8",
   "metadata": {},
   "outputs": [],
   "source": []
  },
  {
   "cell_type": "code",
   "execution_count": null,
   "id": "b674ed41",
   "metadata": {},
   "outputs": [],
   "source": []
  },
  {
   "cell_type": "code",
   "execution_count": null,
   "id": "42eb70b4",
   "metadata": {},
   "outputs": [],
   "source": []
  },
  {
   "cell_type": "code",
   "execution_count": null,
   "id": "f6eef955",
   "metadata": {},
   "outputs": [],
   "source": []
  },
  {
   "cell_type": "code",
   "execution_count": null,
   "id": "046d4e0e",
   "metadata": {},
   "outputs": [],
   "source": []
  },
  {
   "cell_type": "code",
   "execution_count": null,
   "id": "fd8be69b",
   "metadata": {},
   "outputs": [],
   "source": []
  },
  {
   "cell_type": "code",
   "execution_count": null,
   "id": "6c276e22",
   "metadata": {},
   "outputs": [],
   "source": []
  },
  {
   "cell_type": "code",
   "execution_count": null,
   "id": "316fd448",
   "metadata": {},
   "outputs": [],
   "source": []
  },
  {
   "cell_type": "code",
   "execution_count": null,
   "id": "636f3742",
   "metadata": {},
   "outputs": [],
   "source": []
  },
  {
   "cell_type": "code",
   "execution_count": null,
   "id": "533511e6",
   "metadata": {},
   "outputs": [],
   "source": []
  },
  {
   "cell_type": "code",
   "execution_count": null,
   "id": "37671911",
   "metadata": {},
   "outputs": [],
   "source": []
  },
  {
   "cell_type": "code",
   "execution_count": null,
   "id": "d6a1797e",
   "metadata": {},
   "outputs": [],
   "source": []
  }
 ],
 "metadata": {
  "kernelspec": {
   "display_name": "Python 3 (ipykernel)",
   "language": "python",
   "name": "python3"
  },
  "language_info": {
   "codemirror_mode": {
    "name": "ipython",
    "version": 3
   },
   "file_extension": ".py",
   "mimetype": "text/x-python",
   "name": "python",
   "nbconvert_exporter": "python",
   "pygments_lexer": "ipython3",
   "version": "3.10.9"
  }
 },
 "nbformat": 4,
 "nbformat_minor": 5
}
